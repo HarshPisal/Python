{
 "cells": [
  {
   "cell_type": "markdown",
   "metadata": {},
   "source": [
    "Python_QB"
   ]
  },
  {
   "cell_type": "markdown",
   "metadata": {},
   "source": [
    "1.Create the empty list and ask user to enters only int, float elements in the list."
   ]
  },
  {
   "cell_type": "code",
   "execution_count": 32,
   "metadata": {},
   "outputs": [
    {
     "name": "stdout",
     "output_type": "stream",
     "text": [
      "Invalid input, please enter a number.\n",
      "List: []\n"
     ]
    }
   ],
   "source": [
    "l = [] \n",
    "a = input(\"Enter the elements: \")\n",
    "try:\n",
    "    a = int(a)\n",
    "    print(\"Valid (int)\")\n",
    "    l.append(a)\n",
    "except ValueError:\n",
    "    try:\n",
    "        a = float(a)\n",
    "        print(\"Valid (float)\")\n",
    "        l.append(a)\n",
    "    except ValueError:\n",
    "        print(\"Invalid input, please enter a number.\")\n",
    "print(\"List:\", l)\n"
   ]
  },
  {
   "cell_type": "markdown",
   "metadata": {},
   "source": [
    "2.Create a empty dictionary d1 ask user to enter the values using loop"
   ]
  },
  {
   "cell_type": "code",
   "execution_count": 40,
   "metadata": {},
   "outputs": [
    {
     "name": "stdout",
     "output_type": "stream",
     "text": [
      "Final Dictionary: {'a': '5'}\n"
     ]
    }
   ],
   "source": [
    "d1 = {} \n",
    "while True:\n",
    "    key = input(\"Enter the key (or type 'stop' to finish): \")\n",
    "    if key.lower() == 'stop':  \n",
    "        break\n",
    "    value = input(\"Enter the value: \")\n",
    "    d1[key] = value\n",
    "print(\"Final Dictionary:\", d1)\n",
    "    "
   ]
  },
  {
   "cell_type": "markdown",
   "metadata": {},
   "source": [
    "3.Create a empty dictionary d1 ask user to enter the values using comprehensive list"
   ]
  },
  {
   "cell_type": "code",
   "execution_count": 45,
   "metadata": {},
   "outputs": [
    {
     "name": "stdout",
     "output_type": "stream",
     "text": [
      "d1: {'h': '5', 'n': '2'}\n"
     ]
    }
   ],
   "source": [
    "n=int(input(\"Enter no of elements: \"))\n",
    "d1 = {input(\"Enter the key: \"): input(\"Enter the value: \") for j in range(n)}\n",
    "print(\"d1:\", d1)"
   ]
  },
  {
   "cell_type": "markdown",
   "metadata": {},
   "source": [
    "4.Create a function which will accept two integer or float parameter from user and return 4 arithmetic operations in the form of tuple. If user pass argument other than integer and float then error should be created."
   ]
  },
  {
   "cell_type": "code",
   "execution_count": 1,
   "metadata": {},
   "outputs": [
    {
     "name": "stdout",
     "output_type": "stream",
     "text": [
      "Sum 11.0\n",
      "Subtraction -1.0\n",
      "Multiplication 30.0\n",
      "Division 0.8333333333333334\n"
     ]
    }
   ],
   "source": [
    "def arithmetic_operations(x, y):\n",
    "    if not (isinstance(x, (int, float)) and isinstance(y, (int, float))):\n",
    "        raise TypeError(\"Both arguments must be integers or floats.\")\n",
    "    if y == 0:\n",
    "        raise ValueError(\"Division by zero is not allowed.\")\n",
    "    return x, y\n",
    "x = input(\"Enter first number: \")\n",
    "y = input(\"Enter second number: \")\n",
    "try:\n",
    "    x = float(x)\n",
    "    y = float(y)\n",
    "    arithmetic_operations(x, y)\n",
    "    l=lambda x,y:(x+y,x-y,x*y,x/y)\n",
    "    result=l(x,y)\n",
    "    print(\"Sum\",result[0])\n",
    "    print(\"Subtraction\",result[1])\n",
    "    print(\"Multiplication\",result[2])\n",
    "    print(\"Division\",result[3])\n",
    "\n",
    "except ValueError as ve:\n",
    "    print(\"Error:\", ve)\n",
    "except TypeError as te:\n",
    "    print(\"Error:\", te)\n",
    "    "
   ]
  },
  {
   "cell_type": "code",
   "execution_count": 4,
   "metadata": {},
   "outputs": [
    {
     "name": "stdout",
     "output_type": "stream",
     "text": [
      "Results (Addition, Subtraction, Multiplication, Division): (11.0, -1.0, 30.0, 0.8333333333333334)\n"
     ]
    }
   ],
   "source": [
    "# OR \n",
    "def arithmetic_operations(x, y):\n",
    "    if not (isinstance(x, (int, float)) and isinstance(y, (int, float))):\n",
    "        raise TypeError(\"Both arguments must be integers or floats.\")\n",
    "    if y == 0:\n",
    "        raise ValueError(\"Division by zero is not allowed.\")\n",
    "    \n",
    "    addition = x + y\n",
    "    subtraction = x - y\n",
    "    multiplication = x * y\n",
    "    division = x / y\n",
    "    return (addition, subtraction, multiplication, division)\n",
    "try:\n",
    "    x = float(input(\"Enter first number: \"))\n",
    "    y = float(input(\"Enter second number: \"))\n",
    "    result = arithmetic_operations(x, y)\n",
    "    print(\"Results (Addition, Subtraction, Multiplication, Division):\", result)\n",
    "    \n",
    "except ValueError:\n",
    "    print(\"Error: Please enter valid numbers.\")\n",
    "except TypeError as te:\n",
    "    print(\"Error:\", te)\n"
   ]
  },
  {
   "cell_type": "markdown",
   "metadata": {},
   "source": [
    "5.Based on the above function (Question number 4) dived the outcome of multiplication by 2. "
   ]
  },
  {
   "cell_type": "code",
   "execution_count": 3,
   "metadata": {},
   "outputs": [
    {
     "data": {
      "text/plain": [
       "15.0"
      ]
     },
     "execution_count": 3,
     "metadata": {},
     "output_type": "execute_result"
    }
   ],
   "source": [
    "result2=result[2]/2\n",
    "result2"
   ]
  },
  {
   "cell_type": "markdown",
   "metadata": {},
   "source": [
    "6.create a function to add only string element in a list. if other than string display the appropriate message."
   ]
  },
  {
   "cell_type": "code",
   "execution_count": 1,
   "metadata": {},
   "outputs": [
    {
     "name": "stdout",
     "output_type": "stream",
     "text": [
      "Added to the list\n",
      "Added to the list\n",
      "Added to the list\n",
      "Give valid input\n",
      "['uih', 'iko', 'sush']\n"
     ]
    }
   ],
   "source": [
    "def add_str(element,my_list):\n",
    "    if isinstance(element,str) and element.isalpha():\n",
    "        my_list.append(element)\n",
    "        print(\"Added to the list\")\n",
    "    else:\n",
    "        print(\"Give valid input\")\n",
    "my_list=[]\n",
    "while True:\n",
    "    element=input(\"Enter an element\")\n",
    "    if element.lower()==\"exit\":\n",
    "        break\n",
    "    add_str(element,my_list) \n",
    "print(my_list)"
   ]
  },
  {
   "cell_type": "markdown",
   "metadata": {},
   "source": [
    "7.Create a function to read the file and return the dictionary of total lines, total words"
   ]
  },
  {
   "cell_type": "code",
   "execution_count": null,
   "metadata": {},
   "outputs": [
    {
     "name": "stdout",
     "output_type": "stream",
     "text": [
      "{'total_lines': 98, 'total_words': 635}\n"
     ]
    }
   ],
   "source": [
    "def read_file_(file_path):\n",
    "    try:\n",
    "        with open(file_path, 'r') as file:\n",
    "            lines = file.readlines()\n",
    "            total_lines = len(lines)\n",
    "            total_words = sum(len(line.split()) for line in lines)\n",
    "            \n",
    "            return {\n",
    "                \n",
    "                'total_lines': total_lines,\n",
    "                'total_words': total_words\n",
    "            }\n",
    "    except FileNotFoundError:\n",
    "        print(\"File not found. Please check the file path.\")\n",
    "        return None\n",
    "file_path=\"C:\\\\Users\\\\HARSH\\\\OneDrive\\\\Desktop\\\\DATA SCIENCE COURSE\\\\# Situation based grooming.txt\"\n",
    "stats=read_file_(file_path)\n",
    "print(stats)"
   ]
  },
  {
   "cell_type": "markdown",
   "metadata": {},
   "source": [
    "8.Create a function which will accept the dictionary and display key values in separate line."
   ]
  },
  {
   "cell_type": "code",
   "execution_count": null,
   "metadata": {},
   "outputs": [
    {
     "name": "stdout",
     "output_type": "stream",
     "text": [
      "Key: total_lines\n",
      "Value: 10\n",
      "Key: total_words\n",
      "Value: 50\n",
      "Key: author\n",
      "Value: John Doe\n"
     ]
    }
   ],
   "source": [
    "def key_values(dictionary):\n",
    "    for key, value in dictionary.items():\n",
    "        print(f\"Key: {key}\")\n",
    "        print(f\"Value: {value}\")\n",
    "\n",
    "sample_dict = {\n",
    "    'total_lines': 10,\n",
    "    'total_words': 50,\n",
    "    'author': 'John Doe'\n",
    "}\n",
    "key_values(sample_dict)"
   ]
  },
  {
   "cell_type": "markdown",
   "metadata": {},
   "source": [
    "9.Create a lambda function which will accept the dictionary and display key values in separate line."
   ]
  },
  {
   "cell_type": "code",
   "execution_count": 12,
   "metadata": {},
   "outputs": [
    {
     "name": "stdout",
     "output_type": "stream",
     "text": [
      "Key: total_lines\n",
      "Value: 10\n",
      "\n",
      "Key: total_words\n",
      "Value: 50\n",
      "\n",
      "Key: author\n",
      "Value: John Doe\n",
      "\n"
     ]
    },
    {
     "data": {
      "text/plain": [
       "[None, None, None]"
      ]
     },
     "execution_count": 12,
     "metadata": {},
     "output_type": "execute_result"
    }
   ],
   "source": [
    "display_dict = lambda d: [print(f\"Key: {k}\\nValue: {v}\\n\") for k, v in d.items()]\n",
    "\n",
    "sample_dict = {\n",
    "    'total_lines': 10,\n",
    "    'total_words': 50,\n",
    "    'author': 'John Doe'\n",
    "}\n",
    "display_dict(sample_dict)"
   ]
  },
  {
   "cell_type": "markdown",
   "metadata": {},
   "source": [
    "10.Create a function to validate the password: password should contains at least one small letter, one capital letter, one number, and one special character except comma, quotes"
   ]
  },
  {
   "cell_type": "code",
   "execution_count": 27,
   "metadata": {},
   "outputs": [
    {
     "name": "stdout",
     "output_type": "stream",
     "text": [
      "Password Validated\n"
     ]
    }
   ],
   "source": [
    "import re\n",
    "\n",
    "def password():\n",
    "    a=input(\"Enter the password\")\n",
    "    pattern1=\"[A-Z]\"\n",
    "    pattern2=\"[a-z]\"\n",
    "    pattern3=\"[0-9]\"\n",
    "    pattern4=\"[^\\w\\s,\\']\"\n",
    "    if re.search(pattern1,a) and  re.search(pattern2,a) and  re.search(pattern3,a) and  re.search(pattern4,a):\n",
    "        print(\"Password Validated\")\n",
    "    else:\n",
    "        print(\"Invalid password\")\n",
    "password()"
   ]
  },
  {
   "cell_type": "markdown",
   "metadata": {},
   "source": [
    "11.Generate a decorator having logic to accept natural numbers . which can be used in a function of factorial"
   ]
  },
  {
   "cell_type": "code",
   "execution_count": 30,
   "metadata": {},
   "outputs": [
    {
     "name": "stdout",
     "output_type": "stream",
     "text": [
      "Factorial of 6 is: 720\n"
     ]
    }
   ],
   "source": [
    "def natural_number(fact):\n",
    "    def wrapper(n):\n",
    "        if isinstance(n, int) and n > 0: \n",
    "            return fact(n)\n",
    "        else:\n",
    "            raise ValueError(\"Input must be a natural number (positive integer).\")\n",
    "    return wrapper\n",
    "\n",
    "@natural_number\n",
    "def factorial(n):\n",
    "    if n == 1:\n",
    "        return 1\n",
    "    else:\n",
    "        return n * factorial(n - 1)\n",
    "try:\n",
    "    num = int(input(\"Enter a natural number: \"))\n",
    "    print(f\"Factorial of {num} is: {factorial(num)}\")\n",
    "except ValueError as e:\n",
    "    print(e)\n"
   ]
  },
  {
   "cell_type": "markdown",
   "metadata": {},
   "source": [
    "12.\tGenerate the decorator for a Garden visit to check if current time is between 7am to 7pm.  If true the only call the function else generate the error. \n",
    "a.\tFunction payment_check() is active only within given time span and it will check for all user transaction in that given month.\n",
    "b.\tFunction entry() will be perform entry transaction of the user\n",
    "c.\tFunction exit() will update the outtime of the user if entry exists  "
   ]
  },
  {
   "cell_type": "code",
   "execution_count": 42,
   "metadata": {},
   "outputs": [
    {
     "name": "stdout",
     "output_type": "stream",
     "text": [
      "Checking payment transactions for the month: March\n",
      "Entry recorded for User ID: 101\n",
      "Exit recorded for User ID: 101\n"
     ]
    }
   ],
   "source": [
    "from datetime import datetime\n",
    "\n",
    "def garden_time_validator(func):\n",
    "    def wrapper(*args, **kwargs):\n",
    "        current_time = datetime.now().time()\n",
    "        start_time = datetime.strptime(\"07:00\", \"%H:%M\").time()\n",
    "        end_time = datetime.strptime(\"19:00\", \"%H:%M\").time()\n",
    "\n",
    "        if start_time <= current_time <= end_time:\n",
    "            return func(*args, **kwargs)\n",
    "        else:\n",
    "            raise Exception(\"Access Denied: Garden is open only between 7 AM to 7 PM.\")\n",
    "    return wrapper\n",
    "\n",
    "@garden_time_validator\n",
    "def payment_check(month):\n",
    "    print(f\"Checking payment transactions for the month: {month}\")\n",
    "    \n",
    "@garden_time_validator\n",
    "def entry(user_id):\n",
    "    print(f\"Entry recorded for User ID: {user_id}\")\n",
    "   \n",
    "@garden_time_validator\n",
    "def exit(user_id):\n",
    "    print(f\"Exit recorded for User ID: {user_id}\")\n",
    "\n",
    "try:\n",
    "    payment_check(\"March\")\n",
    "    entry(101)\n",
    "    exit(101)\n",
    "except Exception as e:\n",
    "    print(e)\n"
   ]
  },
  {
   "cell_type": "markdown",
   "metadata": {},
   "source": [
    "13.Create lambda function for sorting of the string"
   ]
  },
  {
   "cell_type": "code",
   "execution_count": null,
   "metadata": {},
   "outputs": [
    {
     "name": "stdout",
     "output_type": "stream",
     "text": [
      "Sorted string: ahhrs\n"
     ]
    }
   ],
   "source": [
    "sort_string = lambda s: ''.join(sorted(s))\n",
    "\n",
    "input_string = input(\"Enter a string: \")\n",
    "sorted_string = sort_string(input_string)\n",
    "print(f\"Sorted string: {sorted_string}\")\n"
   ]
  },
  {
   "cell_type": "markdown",
   "metadata": {},
   "source": [
    "14.Create a generator which will generate runtime unique value as  ABC0001, ABC0002, ABC0003… "
   ]
  },
  {
   "cell_type": "code",
   "execution_count": 1,
   "metadata": {},
   "outputs": [
    {
     "name": "stdout",
     "output_type": "stream",
     "text": [
      "ABC0001\n",
      "ABC0002\n",
      "ABC0003\n",
      "ABC0004\n",
      "ABC0005\n",
      "ABC0006\n"
     ]
    }
   ],
   "source": [
    "def unique_value_generator(prefix=\"ABC\", start=1):\n",
    "    while True:\n",
    "        yield f\"{prefix}{start:04d}\"\n",
    "        start += 1\n",
    "gen = unique_value_generator()\n",
    "for i in range(6):\n",
    "    print(next(gen))"
   ]
  },
  {
   "cell_type": "markdown",
   "metadata": {},
   "source": [
    "15.Create a decorator to check if all input values are alpha numeric and based on it check PAN detail  AAAAA1111X , rec.no   first 3 chr next 5 number "
   ]
  },
  {
   "cell_type": "code",
   "execution_count": 11,
   "metadata": {},
   "outputs": [
    {
     "name": "stdout",
     "output_type": "stream",
     "text": [
      "Valid PAN: AAAAA1111X\n",
      "Invalid PAN format: 12345\n",
      "data: PAN = AAAAA1111X, Rec No = 12345\n",
      "Valid PAN: AAAAA1111Z\n",
      "Invalid PAN format: REC123\n",
      "data: PAN = AAAAA1111Z, Rec No = REC123\n"
     ]
    },
    {
     "ename": "ValueError",
     "evalue": "Non-alphanumeric value found: REC@123",
     "output_type": "error",
     "traceback": [
      "\u001b[1;31m---------------------------------------------------------------------------\u001b[0m",
      "\u001b[1;31mValueError\u001b[0m                                Traceback (most recent call last)",
      "Cell \u001b[1;32mIn[11], line 24\u001b[0m\n\u001b[0;32m     22\u001b[0m process_data(\u001b[38;5;124m\"\u001b[39m\u001b[38;5;124mAAAAA1111X\u001b[39m\u001b[38;5;124m\"\u001b[39m, \u001b[38;5;124m\"\u001b[39m\u001b[38;5;124m12345\u001b[39m\u001b[38;5;124m\"\u001b[39m)  \u001b[38;5;66;03m# Valid PAN\u001b[39;00m\n\u001b[0;32m     23\u001b[0m process_data(\u001b[38;5;124m\"\u001b[39m\u001b[38;5;124mAAAAA1111Z\u001b[39m\u001b[38;5;124m\"\u001b[39m, \u001b[38;5;124m\"\u001b[39m\u001b[38;5;124mREC123\u001b[39m\u001b[38;5;124m\"\u001b[39m) \u001b[38;5;66;03m# Invalid PAN\u001b[39;00m\n\u001b[1;32m---> 24\u001b[0m \u001b[43mprocess_data\u001b[49m\u001b[43m(\u001b[49m\u001b[38;5;124;43m\"\u001b[39;49m\u001b[38;5;124;43mAAAAA1111X\u001b[39;49m\u001b[38;5;124;43m\"\u001b[39;49m\u001b[43m,\u001b[49m\u001b[43m \u001b[49m\u001b[38;5;124;43m\"\u001b[39;49m\u001b[38;5;124;43mREC@123\u001b[39;49m\u001b[38;5;124;43m\"\u001b[39;49m\u001b[43m)\u001b[49m \u001b[38;5;66;03m# Invalid alphanumeric\u001b[39;00m\n",
      "Cell \u001b[1;32mIn[11], line 7\u001b[0m, in \u001b[0;36mcheck_alphanum_pan.<locals>.wrapper\u001b[1;34m(*args, **kwargs)\u001b[0m\n\u001b[0;32m      5\u001b[0m \u001b[38;5;28;01mfor\u001b[39;00m arg \u001b[38;5;129;01min\u001b[39;00m args:\n\u001b[0;32m      6\u001b[0m     \u001b[38;5;28;01mif\u001b[39;00m \u001b[38;5;129;01mnot\u001b[39;00m \u001b[38;5;28mstr\u001b[39m(arg)\u001b[38;5;241m.\u001b[39misalnum():\n\u001b[1;32m----> 7\u001b[0m         \u001b[38;5;28;01mraise\u001b[39;00m \u001b[38;5;167;01mValueError\u001b[39;00m(\u001b[38;5;124mf\u001b[39m\u001b[38;5;124m\"\u001b[39m\u001b[38;5;124mNon-alphanumeric value found: \u001b[39m\u001b[38;5;132;01m{\u001b[39;00marg\u001b[38;5;132;01m}\u001b[39;00m\u001b[38;5;124m\"\u001b[39m)\n\u001b[0;32m      9\u001b[0m pan_pattern \u001b[38;5;241m=\u001b[39m \u001b[38;5;124mr\u001b[39m\u001b[38;5;124m\"\u001b[39m\u001b[38;5;124m^[A-Z]\u001b[39m\u001b[38;5;132;01m{5}\u001b[39;00m\u001b[38;5;124m[0-9]\u001b[39m\u001b[38;5;132;01m{4}\u001b[39;00m\u001b[38;5;124m[A-Z]$\u001b[39m\u001b[38;5;124m\"\u001b[39m\n\u001b[0;32m     10\u001b[0m \u001b[38;5;28;01mfor\u001b[39;00m arg \u001b[38;5;129;01min\u001b[39;00m args:\n",
      "\u001b[1;31mValueError\u001b[0m: Non-alphanumeric value found: REC@123"
     ]
    }
   ],
   "source": [
    "import re\n",
    "\n",
    "def check_alphanum_pan(dec):\n",
    "    def wrapper(*args, **kwargs):\n",
    "        for arg in args:\n",
    "            if not str(arg).isalnum():\n",
    "                raise ValueError(f\"Non-alphanumeric value found: {arg}\")\n",
    "        \n",
    "        pan_pattern = r\"^[A-Z]{5}[0-9]{4}[A-Z]$\"\n",
    "        for arg in args:\n",
    "            if isinstance(arg, str) and re.match(pan_pattern, arg):\n",
    "                print(f\"Valid PAN: {arg}\")\n",
    "            elif isinstance(arg, str):\n",
    "                print(f\"Invalid PAN format: {arg}\")\n",
    "        return dec(*args, **kwargs)\n",
    "    return wrapper\n",
    "\n",
    "@check_alphanum_pan\n",
    "def process_data(pan_number, rec_no):\n",
    "    print(f\"data: PAN = {pan_number}, Rec No = {rec_no}\")\n",
    "\n",
    "process_data(\"AAAAA1111X\", \"12345\")  # Valid PAN\n",
    "process_data(\"AAAAA1111Z\", \"REC123\") # Invalid PAN\n",
    "process_data(\"AAAAA1111X\", \"REC@123\") # Invalid alphanumeric\n"
   ]
  },
  {
   "cell_type": "markdown",
   "metadata": {},
   "source": [
    "16.Accept 2 values from user and perform all arithmetic operations and return all"
   ]
  },
  {
   "cell_type": "code",
   "execution_count": 23,
   "metadata": {},
   "outputs": [
    {
     "name": "stdout",
     "output_type": "stream",
     "text": [
      "{'Addition': 14.0, 'Subtraction': 2.0, 'Multiplication': 48.0, 'Division': 1.3333333333333333, 'Modulus': 2.0, 'Exponentiation': 262144.0, 'Floor Division': 1.0}\n"
     ]
    }
   ],
   "source": [
    "def arithmetic_operations(a, b):\n",
    "    addition = a + b\n",
    "    subtraction = a - b\n",
    "    multiplication = a * b\n",
    "    division = a / b if b != 0 else \"Undefined\"\n",
    "    modulus = a % b if b != 0 else \"Undefined\"\n",
    "    exponentiation = a ** b\n",
    "    floor_division = a // b if b != 0 else \"Undefined\"\n",
    "    \n",
    "    return {\n",
    "        \"Addition\": addition,\n",
    "        \"Subtraction\": subtraction,\n",
    "        \"Multiplication\": multiplication,\n",
    "        \"Division\": division,\n",
    "        \"Modulus\": modulus,\n",
    "        \"Exponentiation\": exponentiation,\n",
    "        \"Floor Division\": floor_division\n",
    "    }\n",
    "num1 = float(input(\"Enter first number: \"))\n",
    "num2 = float(input(\"Enter second number: \"))\n",
    "\n",
    "results = arithmetic_operations(num1, num2)\n",
    "print(results)"
   ]
  },
  {
   "cell_type": "code",
   "execution_count": 24,
   "metadata": {},
   "outputs": [],
   "source": [
    "# 17.\tAsk user to enter any 3 input e.g name, marks , mobile_num\n",
    "# if name is with other special characters then it should not not ask for next makrs input\n",
    "#  \tnote: \n",
    "#\tCreate separate functions for validation of every variable \n",
    "#\tEvery single block should have proper exception\n",
    "#\tEvery function must have the docstring\n",
    "#\tOnce the validation is done dictionary has to be created and store the dictionary to one txt file"
   ]
  },
  {
   "cell_type": "code",
   "execution_count": 25,
   "metadata": {},
   "outputs": [
    {
     "name": "stdout",
     "output_type": "stream",
     "text": [
      "Data saved successfully.\n"
     ]
    }
   ],
   "source": [
    "import re\n",
    "\n",
    "def validate_name(name):\n",
    "    \"\"\"\n",
    "    Validates the name to ensure it contains only alphabets and spaces.\n",
    "    If invalid, raises a ValueError.\n",
    "    \"\"\"\n",
    "    if not re.match(r\"^[A-Za-z\\s]+$\", name):\n",
    "        raise ValueError(\"Name should contain only alphabets and spaces.\")\n",
    "    return name\n",
    "\n",
    "def validate_marks(marks):\n",
    "    \"\"\"\n",
    "    Validates marks to ensure they are a number between 0 and 100.\n",
    "    If invalid, raises a ValueError.\n",
    "    \"\"\"\n",
    "    try:\n",
    "        marks = float(marks)\n",
    "        if not (0 <= marks <= 100):\n",
    "            raise ValueError(\"Marks should be between 0 and 100.\")\n",
    "    except ValueError:\n",
    "        raise ValueError(\"Marks should be a valid number.\")\n",
    "    return marks\n",
    "\n",
    "def validate_mobile_num(mobile_num):\n",
    "    \"\"\"\n",
    "    Validates the mobile number to ensure it is a 10-digit number.\n",
    "    If invalid, raises a ValueError.\n",
    "    \"\"\"\n",
    "    if not re.match(r\"^[0-9]{10}$\", mobile_num):\n",
    "        raise ValueError(\"Mobile number should be a 10-digit numeric value.\")\n",
    "    return mobile_num\n",
    "\n",
    "def get_user_inputs():\n",
    "    \"\"\"\n",
    "    Gets input from the user for name, marks, and mobile number.\n",
    "    Validates each input using respective functions.\n",
    "    Returns a dictionary of validated data.\n",
    "    \"\"\"\n",
    "    try:\n",
    "        name = input(\"Enter your name: \")\n",
    "        name = validate_name(name)\n",
    "        \n",
    "        marks = input(\"Enter your marks: \")\n",
    "        marks = validate_marks(marks)\n",
    "        \n",
    "        mobile_num = input(\"Enter your mobile number: \")\n",
    "        mobile_num = validate_mobile_num(mobile_num)\n",
    "        \n",
    "        # Store data in dictionary if all validations pass\n",
    "        data = {\n",
    "            \"Name\": name,\n",
    "            \"Marks\": marks,\n",
    "            \"Mobile Number\": mobile_num\n",
    "        }\n",
    "        return data\n",
    "    \n",
    "    except ValueError as ve:\n",
    "        print(f\"Input Error: {ve}\")\n",
    "        return None\n",
    "\n",
    "def save_to_file(data, filename=\"data.txt\"):\n",
    "    \"\"\"\n",
    "    Saves the provided dictionary data to a text file.\n",
    "    \"\"\"\n",
    "    try:\n",
    "        with open(filename, 'a') as file:\n",
    "            file.write(str(data) + \"\\n\")\n",
    "        print(\"Data saved successfully.\")\n",
    "    except Exception as e:\n",
    "        print(f\"File Error: {e}\")\n",
    "\n",
    "# Main flow\n",
    "user_data = get_user_inputs()\n",
    "if user_data:\n",
    "    save_to_file(user_data)\n",
    "else:\n",
    "    print(\"Input validation failed. Data not saved.\")\n"
   ]
  },
  {
   "cell_type": "code",
   "execution_count": null,
   "metadata": {},
   "outputs": [],
   "source": [
    "# 18.Segregate file in small , medium and large size in different folder\n",
    "#\tfilesize less than and equal to 10KB is small file\n",
    "#\tfilesize more than 10 KB is the medium file\n",
    "#\tfilesize more than 40 kb is the large file\n",
    "#\tcreate the log file "
   ]
  },
  {
   "cell_type": "code",
   "execution_count": 28,
   "metadata": {},
   "outputs": [
    {
     "name": "stdout",
     "output_type": "stream",
     "text": [
      "C:\\Users\\HARSH\\OneDrive\\Desktop\\HARSH_BIZMETRIC\\Background_Verification.pdf 727.173\n",
      "C:\\Users\\HARSH\\OneDrive\\Desktop\\HARSH_BIZMETRIC\\Document_Verification.pdf 1268.229\n",
      "C:\\Users\\HARSH\\OneDrive\\Desktop\\HARSH_BIZMETRIC\\Harsh Sadashiv Pisal_Offer Letter.pdf 205.755\n",
      "C:\\Users\\HARSH\\OneDrive\\Desktop\\HARSH_BIZMETRIC\\Harsh_Bizmetric_Documents.zip 2391.338\n",
      "C:\\Users\\HARSH\\OneDrive\\Desktop\\HARSH_BIZMETRIC\\NDA (Biz-Metric) Harsh.pdf 454.022\n",
      "C:\\Users\\HARSH\\OneDrive\\Desktop\\HARSH_BIZMETRIC\\SERVICE AGREEMENT Harsh.docx 17.932\n",
      "C:\\Users\\HARSH\\OneDrive\\Desktop\\HARSH_BIZMETRIC\\Service_Agreement_Harsh Pisal.pdf 3662.479\n"
     ]
    }
   ],
   "source": [
    "import os\n",
    "import shutil\n",
    "for i in os.listdir(\"C:\\\\Users\\\\HARSH\\\\OneDrive\\\\Desktop\\\\HARSH_BIZMETRIC\"):\n",
    "    filename=\"C:\\\\Users\\\\HARSH\\\\OneDrive\\\\Desktop\\\\HARSH_BIZMETRIC\\\\\"+i\n",
    "    sz=os.stat(filename).st_size/1000\n",
    "    print(filename,sz)\n",
    "\n",
    "    if sz>0 and sz<=10:\n",
    "       shutil.copy(filename,\"C:\\\\Users\\\\HARSH\\\\OneDrive\\\\Desktop\\\\Bizmetric_Python\\\\d1\")\n",
    "    elif sz>10 and sz<=40:\n",
    "       shutil.copy(filename,\"C:\\\\Users\\\\HARSH\\\\OneDrive\\\\Desktop\\\\Bizmetric_Python\\\\d2\")\n",
    "    else:\n",
    "       shutil.copy(filename,\"C:\\\\Users\\\\HARSH\\\\OneDrive\\\\Desktop\\\\Bizmetric_Python\\\\d3\")"
   ]
  },
  {
   "cell_type": "markdown",
   "metadata": {},
   "source": [
    "19.In the hotel user is entering the details of menu, quantity and printing the bill. number of menu may varies with customer's order \n",
    "\tgenerate a file having grocery bill as per the below format"
   ]
  },
  {
   "cell_type": "code",
   "execution_count": 37,
   "metadata": {},
   "outputs": [
    {
     "name": "stdout",
     "output_type": "stream",
     "text": [
      "Enter menu details (type 'done' to finish):\n",
      "---------------------------------------------\n",
      "|             Welcome                          |\n",
      "|           Hotel Harsh                        |\n",
      "|   2025-02-13 21:14:39        recpt: 20250213211439 |\n",
      "---------------------------------------------\n",
      "| SR. | Menu          | Qnt | Price            |\n",
      "---------------------------------------------\n",
      "| 1   | vadapav      | 6   | 120.0         |\n",
      "---------------------------------------------\n",
      "| Total                         120.0     |\n",
      "| Including GST 10% = 12.0                 |\n",
      "| Grand Total                   132.0     |\n",
      "---------------------------------------------\n",
      "\n",
      "Bill saved as 'grocery_bill.txt'.\n"
     ]
    }
   ],
   "source": [
    "from datetime import datetime\n",
    "\n",
    "def get_menu_details():\n",
    "    menu_list = []\n",
    "    print(\"Enter menu details (type 'done' to finish):\")\n",
    "    \n",
    "    while True:\n",
    "        menu_name = input(\"Menu Name: \")\n",
    "        if menu_name.lower() == 'done':\n",
    "            break\n",
    "        \n",
    "        try:\n",
    "            quantity = int(input(\"Quantity: \"))\n",
    "            price = float(input(\"Price per unit: \"))\n",
    "            total_price = quantity * price\n",
    "            menu_list.append({\"name\": menu_name, \"quantity\": quantity, \"price\": total_price})\n",
    "        \n",
    "        except ValueError:\n",
    "            print(\"Invalid input. Please enter numeric values for quantity and price.\")\n",
    "    \n",
    "    return menu_list\n",
    "\n",
    "def calculate_total(menu_list):\n",
    "    \"\"\"\n",
    "    Calculate the total amount and GST.\n",
    "    \"\"\"\n",
    "    total = sum(item['price'] for item in menu_list)\n",
    "    gst = total * 0.10  # 10% GST\n",
    "    grand_total = total + gst\n",
    "    return total, gst, grand_total\n",
    "\n",
    "def generate_bill(menu_list, total, gst, grand_total):\n",
    "\n",
    "    receipt_no = datetime.now().strftime(\"%Y%m%d%H%M%S\")\n",
    "    current_date = datetime.now().strftime(\"%Y-%m-%d %H:%M:%S\")\n",
    "    \n",
    "    bill = []\n",
    "    bill.append(\"---------------------------------------------\")\n",
    "    bill.append(\"|             Welcome                          |\")\n",
    "    bill.append(\"|           Hotel Harsh                        |\")\n",
    "    bill.append(f\"|   {current_date}        recpt: {receipt_no} |\")\n",
    "    bill.append(\"---------------------------------------------\")\n",
    "    bill.append(\"| SR. | Menu          | Qnt | Price            |\")\n",
    "    bill.append(\"---------------------------------------------\")\n",
    "    \n",
    "    # Menu Items\n",
    "    for index, item in enumerate(menu_list, start=1):\n",
    "        bill.append(f\"| {index:<3} | {item['name']:<12} | {item['quantity']:<3} | {item['price']:<13} |\")\n",
    "    \n",
    "    # Total and GST\n",
    "    bill.append(\"---------------------------------------------\")\n",
    "    bill.append(f\"| Total                         {total:<6}    |\")\n",
    "    bill.append(f\"| Including GST 10% = {gst:<6}               |\")\n",
    "    bill.append(f\"| Grand Total                   {grand_total:<6}    |\")\n",
    "    bill.append(\"---------------------------------------------\")\n",
    "    \n",
    "    # Print Bill\n",
    "    print(\"\\n\".join(bill))\n",
    "    \n",
    "    # Save to file\n",
    "    with open(\"grocery_bill.txt\", \"w\") as file:\n",
    "        file.write(\"\\n\".join(bill))\n",
    "    \n",
    "    print(\"\\nBill saved as 'grocery_bill.txt'.\")\n",
    "\n",
    "# Main flow\n",
    "menu_list = get_menu_details()\n",
    "if menu_list:\n",
    "    total, gst, grand_total = calculate_total(menu_list)\n",
    "    generate_bill(menu_list, total, gst, grand_total)\n",
    "else:\n",
    "    print(\"No items entered. Bill not generated.\")\n"
   ]
  },
  {
   "cell_type": "markdown",
   "metadata": {},
   "source": [
    "20.Ask user to enter the valid file path and check which word is having more repetition in the file"
   ]
  },
  {
   "cell_type": "code",
   "execution_count": null,
   "metadata": {},
   "outputs": [
    {
     "name": "stdout",
     "output_type": "stream",
     "text": [
      "The most repeated word is 'are' with 2 repetitions.\n"
     ]
    }
   ],
   "source": [
    "from collections import Counter\n",
    "import os\n",
    "\n",
    "def most_repeated_word(file_path):\n",
    "    # Check if the file exists\n",
    "    if not os.path.isfile(file_path):\n",
    "        print(\"File not found. Please enter a valid file path.\")\n",
    "        return\n",
    "   \n",
    "    with open(file_path, 'r', encoding='utf-8') as file:\n",
    "        text = file.read().lower()\n",
    "        words = text.split()\n",
    "        word_count = Counter(words)\n",
    "\n",
    "    most_common_word, frequency = word_count.most_common(1)[0]\n",
    "    print(f\"The most repeated word is '{most_common_word}' with {frequency} repetitions.\")\n",
    "\n",
    "most_repeated_word(\"C:\\\\Users\\\\HARSH\\\\OneDrive\\\\Desktop\\\\DATA SCIENCE COURSE\\\\hello.txt\")"
   ]
  },
  {
   "cell_type": "markdown",
   "metadata": {},
   "source": [
    "21.Create a function which will accept the word and the file path and returns the dictionary as {word: occurances}"
   ]
  },
  {
   "cell_type": "code",
   "execution_count": null,
   "metadata": {},
   "outputs": [
    {
     "name": "stdout",
     "output_type": "stream",
     "text": [
      "None\n"
     ]
    }
   ],
   "source": [
    "import os\n",
    "from collections import Counter\n",
    "\n",
    "def count_word_occurrences(word, file_path):\n",
    "    if not os.path.isfile(file_path):\n",
    "        print(\"File not found. Please enter a valid file path.\")\n",
    "        return {}\n",
    "\n",
    "    with open(file_path, 'r', encoding='utf-8') as file:\n",
    "        text = file.read().lower()\n",
    "        words = text.split()\n",
    "        word_count = Counter(words)\n",
    "\n",
    "    word = word.lower()\n",
    "    occurrences = word_count.get(word, 0)\n",
    "\n",
    "file_path = \"C:\\\\Users\\\\HARSH\\\\OneDrive\\\\Desktop\\\\DATA SCIENCE COURSE\\\\hello.txt\"\n",
    "word = input(\"Enter the word to count: \")\n",
    "result = count_word_occurrences(word, file_path)\n",
    "print(result)\n"
   ]
  },
  {
   "cell_type": "markdown",
   "metadata": {},
   "source": [
    "22.Create a function which will accept one file and returns all occurrences of the word\n",
    "{‘market’ : 3, ‘is’:5, ‘new’:2}\n"
   ]
  },
  {
   "cell_type": "code",
   "execution_count": 17,
   "metadata": {},
   "outputs": [
    {
     "name": "stdout",
     "output_type": "stream",
     "text": [
      "{'hello': 1, 'harsh': 1, 'how': 1, 'are': 2, 'you': 2, 'ganpati': 1, 'bappa': 1, 'moraya': 1, 'like': 1, 'to': 1, 'play': 1, 'cricket': 1}\n"
     ]
    }
   ],
   "source": [
    "import os\n",
    "from collections import Counter\n",
    "\n",
    "def count_all_word_occurrences(file_path):\n",
    "    # Check if the file exists\n",
    "    if not os.path.isfile(file_path):\n",
    "        print(\"File not found. Please enter a valid file path.\")\n",
    "        return {}\n",
    "    \n",
    "    # Read the file and count the words\n",
    "    with open(file_path, 'r', encoding='utf-8') as file:\n",
    "        text = file.read().lower()\n",
    "        words = text.split()\n",
    "        word_count = Counter(words)\n",
    "    \n",
    "    # Convert the Counter object to a regular dictionary\n",
    "    return dict(word_count)\n",
    "\n",
    "# Example usage:\n",
    "file_path = \"C:\\\\Users\\\\HARSH\\\\OneDrive\\\\Desktop\\\\DATA SCIENCE COURSE\\\\hello.txt\"\n",
    "result = count_all_word_occurrences(file_path)\n",
    "print(result)\n"
   ]
  },
  {
   "cell_type": "markdown",
   "metadata": {},
   "source": [
    "23.Based on logic mentioned in question number 8 create the class"
   ]
  },
  {
   "cell_type": "code",
   "execution_count": 7,
   "metadata": {},
   "outputs": [
    {
     "name": "stdout",
     "output_type": "stream",
     "text": [
      "Key: total_lines\n",
      "Value: 10\n",
      "Key: total_words\n",
      "Value: 50\n",
      "Key: author\n",
      "Value: John Doe\n"
     ]
    }
   ],
   "source": [
    "class Dictionary:\n",
    "    def __init__(self, dictionary):\n",
    "        self.dictionary = dictionary\n",
    "        \n",
    "    def key_values(self):\n",
    "        for key, value in self.dictionary.items():\n",
    "            print(f\"Key: {key}\")\n",
    "            print(f\"Value: {value}\")\n",
    "\n",
    "# Example usage:\n",
    "sample_dict = {\n",
    "    'total_lines': 10,\n",
    "    'total_words': 50,\n",
    "    'author': 'John Doe'\n",
    "}\n",
    "# Create an instance of the class and call the method\n",
    "printer = Dictionary(sample_dict)\n",
    "printer.key_values()\n"
   ]
  },
  {
   "cell_type": "markdown",
   "metadata": {},
   "source": [
    "24.Ask user to enter the folder path. Folder may contain more than one file and with different extensions. Read only text file and return the more repetitive word"
   ]
  },
  {
   "cell_type": "code",
   "execution_count": 20,
   "metadata": {},
   "outputs": [
    {
     "name": "stdout",
     "output_type": "stream",
     "text": [
      "The most repetitive word is '2' with 37 occurrences.\n"
     ]
    }
   ],
   "source": [
    "import os\n",
    "from collections import Counter\n",
    "import re\n",
    "\n",
    "def get_most_repetitive_word(folder_path):\n",
    "    word_counter = Counter()\n",
    "    \n",
    "    if not os.path.isdir(folder_path):\n",
    "        print(\"Invalid folder path. Please try again.\")\n",
    "        return\n",
    "    \n",
    "    for filename in os.listdir(folder_path):\n",
    "        file_path = os.path.join(folder_path, filename)\n",
    "        \n",
    "        if os.path.isfile(file_path) and filename.endswith('.txt'):\n",
    "            with open(file_path, 'r') as file:\n",
    "                text = file.read().lower()  # Convert to lower case for uniformity\n",
    "                words = re.findall(r'\\b\\w+\\b', text)  # Extract words using regex\n",
    "                word_counter.update(words)\n",
    "    \n",
    "    most_common_word = word_counter.most_common(1)\n",
    "    \n",
    "    if most_common_word:\n",
    "        word, count = most_common_word[0]\n",
    "        print(f\"The most repetitive word is '{word}' with {count} occurrences.\")\n",
    "    else:\n",
    "        print(\"No words found in the text files.\")\n",
    "\n",
    "# folder_path = input(\"Enter the folder path: \")\n",
    "get_most_repetitive_word(\"C:\\\\Users\\\\HARSH\\\\OneDrive\\\\Desktop\\\\DATA SCIENCE COURSE\")"
   ]
  },
  {
   "cell_type": "markdown",
   "metadata": {},
   "source": [
    "25.Create a class for file reading"
   ]
  },
  {
   "cell_type": "code",
   "execution_count": null,
   "metadata": {},
   "outputs": [
    {
     "name": "stdout",
     "output_type": "stream",
     "text": [
      "\n",
      "--- Content of File 1 ---\n",
      "# Situation based grooming\n",
      "\n",
      "1) It is the process of making yourself look neat and attractive.\n",
      "\n",
      "2) The things which you do to make yourself and your appearance tidy and pleasant. \n",
      "\n",
      "3) Grooming is important for a positive self image and to encourage and assist the resident to maintain a pleasing and attractive appearance.\n",
      "\n",
      "4) Personal grooming does not mean applying loads Id makeup and wearing expensive clothes. It refers to cleaning and maintaining each body part for a pleasing appearance.\n",
      "\n",
      "5) Stuation-based grooming refers to adapting your grooming practices to specific or social settings.\n",
      "\n",
      "6) It ensures you present yourself appropriately and confidently based on the environment for occasion.\n",
      "\n",
      "\n",
      "# Formal Events (Business meetings,Interviews):\n",
      "\n",
      "1) Your hairs should neatly treamed and styled appropriately.\n",
      "2) Wear a well-fitted suit,dress shoes and a tie\n",
      "3) You should shave closely and apply a subtle,elegant fragrance.\n",
      "4) Wear polished,closed-toe formal shoes.\n",
      "5) Keep the nails clean and trimmed.\n",
      "6) Maintain eye contact and a good posture.\n",
      "7) Smile and exude confidence without appearing overbearing.\n",
      "8) looking polished and professional boosts your credibility and ensures a positive impression during corporate meetings.\n",
      "\n",
      "# Office Parties:\n",
      "\n",
      "1) Keep makeup subtle yet elegant with neutral tones\n",
      "2) for men,ensure a clean shave or neatly trimmed beard.\n",
      "3) Keep breath fresh with mints if needed.\n",
      "4) Fresh up with deodrant or light cologen.\n",
      "5) Check if there is a theme or dress code for guidance.\n",
      "6) for womwn , choose semi-formal dresses.\n",
      "7) Avoid overly revealing attire. \n",
      "8) For men , you can stick to smart-casuals like blezzers with shirts or fitted sweaters.\n",
      "9) A classy watch or delicate jw=ewelry adds a polished touch.\n",
      "10) Comfortable yet stylish shoes,avoid casual sneakers.\n",
      "11) Be punctual and thank organizers when leaving.\n",
      "\n",
      "# Maintaining proper hygiene is an essential part of grooming. Hereâ€™s a guide to ensure you stay fresh, clean, and well-groomed:\n",
      "\n",
      "1. Daily Personal Hygiene\n",
      "Showering: Shower daily or as needed to remove sweat, dirt, and bacteria.\n",
      "Soap/Body Wash: Use a gentle cleanser that suits your skin type.\n",
      "Hair Washing: Wash your hair regularly, typically 2â€“3 times a week, or daily if it gets oily quickly.\n",
      "Face Cleansing: Cleanse your face morning and night to remove dirt and oil buildup.\n",
      "\n",
      "2. Oral Care\n",
      "Brushing: Brush your teeth at least twice a day using fluoride toothpaste.\n",
      "Flossing: Floss daily to remove plaque and food particles between teeth.\n",
      "Mouthwash: Use a mouthwash for fresher breath.\n",
      "Tongue Cleaning: Scrape or brush your tongue to remove bacteria that cause bad breath.\n",
      "\n",
      "3. Nail Care\n",
      "Trim Fingernails and Toenails: Keep nails clean and neatly trimmed.\n",
      "Clean Under Nails: Ensure no dirt accumulates beneath nails.\n",
      "Moisturize: Apply hand cream to avoid dryness and cracking.\n",
      "\n",
      "4. Hair Grooming\n",
      "Facial Hair: Shave or trim facial hair regularly to maintain a clean or well-groomed look.\n",
      "Eyebrow Maintenance: Pluck stray hairs for a tidy appearance if necessary.\n",
      "Ear & Nose Hair: Trim any visible hair from ears or nostrils.\n",
      "\n",
      "5. Body Odor Control\n",
      "Deodorant or Antiperspirant: Apply after showering to stay fresh.\n",
      "Clean Clothes: Wear fresh clothing each day, particularly socks and underwear.\n",
      "Breath Fresheners: Carry mints or gum for quick breath refreshment during the day.\n",
      "\n",
      "6. Skin Care\n",
      "Exfoliation: Exfoliate weekly to remove dead skin cells and maintain a smooth complexion.\n",
      "Moisturizing: Apply body lotion and facial moisturizer to prevent dryness.\n",
      "Sun Protection: Use SPF daily to protect your skin from UV rays.\n",
      "\n",
      "7. Foot Hygiene\n",
      "Daily Cleaning: Wash feet thoroughly during showers.\n",
      "Dry Completely: Dry between toes to prevent fungal infections.\n",
      "Foot Powder: Use if prone to sweaty feet to reduce moisture and odor.\n",
      "\n",
      "8. Clothing Hygiene\n",
      "Laundry: Wash clothing regularly to maintain freshness.\n",
      "Fabric Care: Iron or steam clothes if needed to avoid wrinkles.\n",
      "Consistent hygiene routines not only enhance your grooming but also boost your confidence and make positive impressions.\n",
      "\n",
      "\n",
      "\n",
      "\n",
      "\n",
      "\n",
      "\n",
      "\n",
      "\n",
      "\n",
      "\n",
      "\n",
      "\n",
      "\n",
      " \n",
      "\n",
      "\n",
      "--- Content of File 2 ---\n",
      "ASSIGNMENT (LAB) - 1\n",
      "\n",
      "Name – Harsh Sadashiv Pisal\n",
      "Div – B\n",
      "PRN NO - 1132231343\n",
      "\n",
      "\n",
      "\n",
      "Q ) Create departmental table with the following structure\n",
      "\n",
      "CREATE DATABASE ASSIGNMENT \n",
      "USE ASSIGNMENT\n",
      "CREATE TABLE department (DEPTNO INT,DEPTNAME VARCHAR(11),LOCATION VARCHAR(11))\n",
      "SELECT * FROM department\n",
      "\n",
      "\n",
      "\n",
      "a) Add column designation to the department table\n",
      "\n",
      "ALTER TABLE department ADD(DESIGNATION VARCHAR(11));\n",
      "\n",
      "\n",
      "\n",
      "b) Insert values into the table\n",
      "\n",
      "INSERT INTO department \n",
      "(DEPTNO,DEPTNAME,LOCATION,DESIGNATION)\n",
      "VALUES (9,'accounting','hyderabad','manager'),\n",
      "(10,'research','chennai','professor'),\n",
      "(11,'sales','banglore','salesman'),\n",
      "(12,'operations','mumbai','operator'),\n",
      "(9,'accounting','chennai','manager');\n",
      "SELECT * FROM department \n",
      "\n",
      "\n",
      "\n",
      "c) List the record of the dept table grouped by deptno\n",
      "\n",
      "SELECT DEPTNO FROM department GROUP BY DEPTNO;\n",
      "\n",
      "\n",
      "d) Update the record where deptno is 9\n",
      "\n",
      "UPDATE department set Location=’City’ WHERE DEPTNO=9;\n",
      "SELECT * FROM department \n",
      "\n",
      "  \n",
      "\n",
      "e) Delete any column data from the table \n",
      "\n",
      "ALTER TABLE department DROP COLUMN Location;\n",
      "SELECT * FROM department;\n",
      "\n",
      "\n",
      "f) set designation as accountant where depart no is 9\n",
      "\n",
      "UPDATE department SET DESIGNATION=’accountant’ \n",
      "WHERE DEPTNO=9;\n",
      "\n",
      "\n",
      "\n",
      "g) Remove designation column from table  \n",
      "\n",
      "ALTER TABLE department DROP COLUMN DESIGNATION;\n",
      "SELECT * FROM department; \n",
      "\n",
      "\n",
      "--- Content of File 3 ---\n",
      "hello harsh how are you \n",
      "Ganpati bappa moraya\n",
      "are you like to play cricket\n",
      "\n",
      "--- Content of File 4 ---\n",
      "[5:04 pm, 07/12/2023] Vedangee Patkar MIT: set.seed(5)\n",
      "x=rnorm(30,30,3)\n",
      "y=x+rnorm(30,10,1)\n",
      "n=30\n",
      "N=100\n",
      "xbar=sum(x)/30;xbar\n",
      "Sx=sqrt(sum((x-xbar)^2)/(n-1));Sx\n",
      "ybar=sum(y)/30;ybar\n",
      "Sy=sqrt(sum((y-ybar)^2)/(n-1));Sy\n",
      "f1=(1/n)-(1/N);f1\n",
      "Cx=Sx/xbar;Cx\n",
      "Cy=Sy/ybar;Cy\n",
      "rho=cor(x,y);rho\n",
      "Cyx=rho*Cx*Cy;Cyx\n",
      "\n",
      "bias=f1*((ybar)^2)*((Cx^2)-(Cy^2))\n",
      "\n",
      "MSE_yr=f1*((ybar)^2)*((Cx^2)+(Cy^2)-(2*Cyx))\n",
      "\n",
      "bias\n",
      "MSE_yr\n",
      "\n",
      "MSE_yn=f1*((ybar)^2)*((Cy^2))\n",
      "MSE_yn\n",
      "\n",
      "RE_yn_yr=MSE_yn/MSE_yr\n",
      "RE_yn_yr\n",
      "\n",
      "MSE_yreg=(f1*((ybar)^2)((Cy^2)))(1-(rho^2))\n",
      "MSE_yreg\n",
      "[5:04 pm, 07/12/2023] Vedangee Patkar MIT: sigx=16\n",
      "sigy=9\n",
      "rhoxy=0.9\n",
      "mu1=30\n",
      "mu2=15\n",
      "meat=c(mu1,mu2)\n",
      "cov_mat=matrix(c(sigx,rhoxy*sqrt(sigx)*sqrt(sigy),rhoxy*sqrt(sigx)*sqrt(sigy),sigy),nrow=2,ncol=2,byrow=T)\n",
      "library(MASS)\n",
      "set.seed(10)\n",
      "data=mvrnorm(n=100,mu=meat,Sigma=cov_mat)\n",
      "data1=data.frame(data)\n",
      "data1\n",
      "\n",
      "\n",
      "n=40\n",
      "N=100\n",
      "meanx=mean(data1[,1])\n",
      "meanx\n",
      "meany=mean(data1[,2])\n",
      "meany\n",
      "x=data1[,1]\n",
      "Sx=sqrt(sum((x-meanx)^2)/(n-1));Sx\n",
      "y=data1[,2]\n",
      "Sy=sqrt(sum((y-meany)^2)/(n-1));Sy\n",
      "f1=(1/n)-(1/N);f1\n",
      "Cx=Sx/meanx;Cx\n",
      "Cy=Sy/meany;Cy\n",
      "rho=cor(x,y);rho\n",
      "Cyx=rho*Cx*Cy;Cyx\n",
      "\n",
      "#simple\n",
      "MSE_yn=f1*((meany)^2)*((Cy^2))\n",
      "MSE_yn\n",
      "\n",
      "#ratio\n",
      "bias=f1*((meany)^2)*((Cx^2)-(Cy^2))\n",
      "MSE_yr=f1*((meany)^2)*((Cx^2)+(Cy^2)-(2*Cyx))\n",
      "bias\n",
      "MSE_yr\n",
      "\n",
      "#reg(zero bias)\n",
      "MSE_yreg=(f1*((meany)^2)((Cy^2)))(1-(rho^2))\n",
      "MSE_yreg\n",
      "\n",
      "#product\n",
      "bias1=f1*meany*Cyx\n",
      "MSE_yp=f1*((mâ€¦\n",
      "[5:04 pm, 07/12/2023] Vedangee Patkar MIT: enter=function(num)\n",
      "{ fact=1\n",
      "  if(num<0)\n",
      "    print(\"Factorial does not exist\")\n",
      "  else if(num>0)\n",
      "    for(i in 1:num)\n",
      "    { fact=fact*i}\n",
      "    print(paste(\"The Factorial of \",num,\"is\",fact))\n",
      "}\n",
      "enter(5)\n",
      "enter(0)\n",
      "enter(-1)\n",
      "\n",
      "\n",
      "fibo=function(n)\n",
      "{\n",
      "  a=0\n",
      "  b=1\n",
      "  cat(\"Fibonacci sequence :\")\n",
      "  for(i in 1:n)\n",
      "  {\n",
      "  cat(a,\"\")\n",
      "  nextnum=a+b\n",
      "  a=b\n",
      "  b=nextnum\n",
      "}}\n",
      "fibo(10)\n",
      "\n",
      "\n",
      "fibo1=function(num)\n",
      "{\n",
      "  a=0\n",
      "  b=1\n",
      "  print(\"The Fibonacci series is\")\n",
      "  print(a)\n",
      "  print(b)\n",
      "  num=num-2\n",
      "  for(i in 1:num)\n",
      "  {\n",
      "    nextterm=a+b\n",
      "    print(nextterm)\n",
      "    a=b\n",
      "    b=nextterm\n",
      "  }\n",
      "}\n",
      "fibo1(10)\n",
      "\n",
      "\n",
      "stars=c()\n",
      "for(i in 1:5)\n",
      "{\n",
      "  for(j in 1:i+1)\n",
      "  {\n",
      "    stars=c(stars,\"*\")\n",
      "  }\n",
      "print(stars)\n",
      "stars=c()\n",
      "}\n",
      "\n",
      "a=c(\"      *\")\n",
      "b=c(\"     **\")\n",
      "c=c(\"    *\")\n",
      "d=c(\"   **\")\n",
      "mat=rbind(a,b,c,d)\n",
      "mat\n",
      "\n",
      "\n",
      "p=c(\"   *   \")\n",
      "q=c(\"  * *  \")\n",
      "r=c(\" * * * \")\n",
      "v=c(\"* * * *\")\n",
      "mat1=rbind(p,q,r,v)\n",
      "mat1\n"
     ]
    }
   ],
   "source": [
    "import os\n",
    "\n",
    "class FileReader:\n",
    "    def __init__(self, folder_path):\n",
    "        self.folder_path = folder_path\n",
    "        self.files_content = []\n",
    "\n",
    "    def validate_folder(self):\n",
    "        return os.path.isdir(self.folder_path)\n",
    "    \n",
    "    def read_text_files(self):\n",
    "        if not self.validate_folder():\n",
    "            raise ValueError(\"Invalid folder path.\")\n",
    "        \n",
    "        for filename in os.listdir(self.folder_path):\n",
    "            file_path = os.path.join(self.folder_path, filename)\n",
    "            \n",
    "            if os.path.isfile(file_path) and filename.endswith('.txt'):\n",
    "                with open(file_path, 'r') as file:\n",
    "                    content = file.read()\n",
    "                    self.files_content.append(content)\n",
    "    \n",
    "    def get_files_content(self):\n",
    "        return self.files_content\n",
    "\n",
    "folder_path = input(\"Enter the folder path: \")\n",
    "reader = FileReader(folder_path)\n",
    "\n",
    "try:\n",
    "    reader.read_text_files()\n",
    "    contents = reader.get_files_content()\n",
    "    for i, content in enumerate(contents, start=1):\n",
    "        print(f\"\\n--- Content of File {i} ---\\n{content}\")\n",
    "except ValueError as e:\n",
    "    print(e)    "
   ]
  },
  {
   "cell_type": "markdown",
   "metadata": {},
   "source": [
    "26.Create a function which will accept the dictionary. Dictionary may have values any date type format. If values are in integer or float then return respective key"
   ]
  },
  {
   "cell_type": "code",
   "execution_count": 28,
   "metadata": {},
   "outputs": [
    {
     "data": {
      "text/plain": [
       "['a', 'b']"
      ]
     },
     "execution_count": 28,
     "metadata": {},
     "output_type": "execute_result"
    }
   ],
   "source": [
    "def dictionary(data):\n",
    "    keys=[key for key,value in data.items() if isinstance(value,(int,float))]\n",
    "    return keys\n",
    "\n",
    "sample_data={\"a\":1,\"b\":2.0,\"c\":\"str\",\"d\":[1,2,3]}\n",
    "dictionary(sample_data)"
   ]
  },
  {
   "cell_type": "markdown",
   "metadata": {},
   "source": [
    "27.Create one decorator having exception logic inside it and create another function which will refer to the decorator in case of errors\n",
    "e.g  val_name is the function validating name but customized error should be thrown from decorator\n"
   ]
  },
  {
   "cell_type": "code",
   "execution_count": 29,
   "metadata": {},
   "outputs": [
    {
     "name": "stdout",
     "output_type": "stream",
     "text": [
      "Name 'Harsh' is valid.\n"
     ]
    }
   ],
   "source": [
    "class InvalidNameError(Exception):\n",
    "    pass\n",
    "def handle_exceptions(dec):\n",
    "    def wrapper(*args, **kwargs):\n",
    "        try:\n",
    "            return dec(*args, **kwargs)\n",
    "        except ValueError as e:\n",
    "            raise InvalidNameError(f\"Name Validation Error: {e}\")\n",
    "        except Exception as e:\n",
    "            print(f\"An unexpected error occurred: {e}\")\n",
    "            raise\n",
    "    return wrapper\n",
    "\n",
    "@handle_exceptions\n",
    "def val_name(name):\n",
    "    if not isinstance(name, str):\n",
    "        raise ValueError(\"Name must be a string.\")\n",
    "    if not name:\n",
    "        raise ValueError(\"Name cannot be empty.\")\n",
    "    if any(char.isdigit() for char in name):\n",
    "        raise ValueError(\"Name cannot contain numbers.\")\n",
    "    print(f\"Name '{name}' is valid.\")\n",
    "try:\n",
    "    user_name = input(\"Enter a name: \")\n",
    "    val_name(user_name)\n",
    "except InvalidNameError as e:\n",
    "    print(e)"
   ]
  },
  {
   "cell_type": "markdown",
   "metadata": {},
   "source": [
    "28.Create a class User. User will be instantiated based on key available in the dictionary. If dictionary is not having the key then generate error. If dictionary is having the key then display values against the same."
   ]
  },
  {
   "cell_type": "code",
   "execution_count": 31,
   "metadata": {},
   "outputs": [
    {
     "name": "stdout",
     "output_type": "stream",
     "text": [
      "User Details:\n",
      "Name: Alice\n",
      "Age: 25\n",
      "Email: alice@example.com\n"
     ]
    }
   ],
   "source": [
    "class MissingKeyError(Exception):\n",
    "    pass\n",
    "class User:\n",
    "    required_keys = ['name', 'age', 'email']  \n",
    "    def __init__(self, data_dict):\n",
    "      \n",
    "        missing_keys = [key for key in self.required_keys if key not in data_dict]\n",
    "        if missing_keys:\n",
    "            raise MissingKeyError(f\"Missing required keys: {', '.join(missing_keys)}\")\n",
    "\n",
    "        self.name = data_dict['name']\n",
    "        self.age = data_dict['age']\n",
    "        self.email = data_dict['email']\n",
    "\n",
    "    def display_user_info(self):\n",
    "        \"\"\" Display the user details \"\"\"\n",
    "        print(f\"User Details:\\nName: {self.name}\\nAge: {self.age}\\nEmail: {self.email}\")\n",
    "\n",
    "user_data = {\n",
    "    'name': 'Alice',\n",
    "    'age': 25,\n",
    "    'email': 'alice@example.com'\n",
    "}\n",
    "try:\n",
    "    user = User(user_data)\n",
    "    user.display_user_info()\n",
    "except MissingKeyError as e:\n",
    "    print(f\"Error: {e}\")\n"
   ]
  },
  {
   "cell_type": "markdown",
   "metadata": {},
   "source": [
    "29.Create a class pharma. One user A will enter the medicine name and price.  Another user B will generate the bill based on entry done by the first user"
   ]
  },
  {
   "cell_type": "code",
   "execution_count": 1,
   "metadata": {},
   "outputs": [
    {
     "name": "stdout",
     "output_type": "stream",
     "text": [
      "\n",
      "User A: Enter Medicine Details\n",
      "Medicine 'Paracetamol' added with price: 20.5\n",
      "Medicine 'Aspirin' added with price: 15.75\n",
      "Medicine 'Cough Syrup' added with price: 40.0\n",
      "\n",
      "User B: Generating Bill\n",
      "\n",
      "--- Bill Details ---\n",
      "Paracetamol: 20.5\n",
      "Cough Syrup: 40.0\n",
      "Total Amount: 60.5\n"
     ]
    }
   ],
   "source": [
    "class Pharma:\n",
    "    def __init__(self):\n",
    "        self.medicine = {}\n",
    "\n",
    "    def add_medicine(self, name, price):\n",
    "        if price <= 0:\n",
    "            raise ValueError(\"Price must be greater than zero.\")\n",
    "        self.medicine[name] = price\n",
    "        print(f\"Medicine '{name}' added with price: {price}\")\n",
    "\n",
    "    def generate_bill(self, medicine_list):\n",
    "        total_amount = 0\n",
    "        print(\"\\n--- Bill Details ---\")\n",
    "        for medicine in medicine_list:\n",
    "            if medicine not in self.medicine:\n",
    "                raise KeyError(f\"Medicine '{medicine}' not found in inventory.\")\n",
    "            price = self.medicine[medicine]\n",
    "            total_amount += price\n",
    "            print(f\"{medicine}: {price}\")\n",
    "\n",
    "        print(f\"Total Amount: {total_amount}\")\n",
    "        return total_amount\n",
    "    \n",
    "pharmacy = Pharma()\n",
    "\n",
    "# User A - Adding medicines\n",
    "try:\n",
    "    print(\"\\nUser A: Enter Medicine Details\")\n",
    "    pharmacy.add_medicine(\"Paracetamol\", 20.50)\n",
    "    pharmacy.add_medicine(\"Aspirin\", 15.75)\n",
    "    pharmacy.add_medicine(\"Cough Syrup\", 40.00)\n",
    "except ValueError as e:\n",
    "    print(f\"Error: {e}\")\n",
    "\n",
    "# User B - Generating bill\n",
    "try:\n",
    "    print(\"\\nUser B: Generating Bill\")\n",
    "    medicines_to_buy = [\"Paracetamol\", \"Cough Syrup\"]\n",
    "    pharmacy.generate_bill(medicines_to_buy)\n",
    "except KeyError as e:\n",
    "    print(f\"Error: {e}\")\n"
   ]
  },
  {
   "cell_type": "markdown",
   "metadata": {},
   "source": [
    "30.Read the file if the file contains number, then return the dictionary based on position and values of the number."
   ]
  },
  {
   "cell_type": "code",
   "execution_count": 4,
   "metadata": {},
   "outputs": [
    {
     "name": "stdout",
     "output_type": "stream",
     "text": [
      "{5: 22, 9: 21, 16: 1}\n"
     ]
    }
   ],
   "source": [
    "def file(file_path):\n",
    "    number_dict = {}\n",
    "    try:\n",
    "        with open(file_path, 'r') as file:\n",
    "            contents = file.read().split()\n",
    "            \n",
    "            for index, value in enumerate(contents):\n",
    "                if value.isdigit():  #\n",
    "                    number_dict[index] = int(value)                 \n",
    "    except FileNotFoundError:\n",
    "        print(\"File not found. Please check the file path.\")\n",
    "    return number_dict\n",
    "\n",
    "file_path = \"C:\\\\Users\\\\HARSH\\\\OneDrive\\\\Desktop\\\\DATA SCIENCE COURSE\\\\hello.txt\"\n",
    "numbers = file(file_path)\n",
    "print(numbers)"
   ]
  },
  {
   "cell_type": "markdown",
   "metadata": {},
   "source": [
    "31.Create a class for file reading file if the file contains number, then return the dictionary based on user object, having sub dictionary position and values of the number against that user file."
   ]
  },
  {
   "cell_type": "code",
   "execution_count": 12,
   "metadata": {},
   "outputs": [
    {
     "name": "stdout",
     "output_type": "stream",
     "text": [
      "{'hello': {5: 22, 9: 21, 16: 1}}\n"
     ]
    }
   ],
   "source": [
    "class FileReader:\n",
    "    def __init__(self, user_name, file_path):\n",
    "        self.user_name = user_name\n",
    "        self.file_path = file_path\n",
    "        self.number_dict = {}\n",
    "\n",
    "    def extract_numbers(self):\n",
    "        try:\n",
    "            with open(self.file_path, 'r') as file:\n",
    "                contents = file.read().split()\n",
    "                \n",
    "                for index, value in enumerate(contents):\n",
    "                    if value.isdigit():  \n",
    "                        self.number_dict[index] = int(value)\n",
    "        \n",
    "        except FileNotFoundError:\n",
    "            print(f\"File not found: {self.file_path}\")\n",
    "        \n",
    "        return {self.user_name: self.number_dict}\n",
    "\n",
    "user = FileReader(\"hello\", \"c:\\\\Users\\\\HARSH\\\\OneDrive\\\\Desktop\\\\DATA SCIENCE COURSE\\\\hello.txt.\")\n",
    "alice_numbers = user.extract_numbers()\n",
    "print(alice_numbers)"
   ]
  },
  {
   "cell_type": "markdown",
   "metadata": {},
   "source": [
    "32.In hotel booking portal, user will enter pan card name and mobile number, store the same information into dictionary after successful booking user will get confirmation number. "
   ]
  },
  {
   "cell_type": "code",
   "execution_count": 15,
   "metadata": {},
   "outputs": [
    {
     "name": "stdout",
     "output_type": "stream",
     "text": [
      "Booking successful! Your confirmation number is: CONF2244\n",
      "\n",
      "Booking Details:\n",
      "{'PAN Card': 'FZJkl2236B', 'Name': 'Harsh', 'Mobile Number': '9632258741'}\n"
     ]
    }
   ],
   "source": [
    "import random\n",
    "\n",
    "class HotelBooking:\n",
    "    def __init__(self):\n",
    "        self.bookings = {}\n",
    "\n",
    "    def book_room(self, pan_card, name, mobile_number):\n",
    "        confirmation_number = f\"CONF{random.randint(1000, 9999)}\"\n",
    "        \n",
    "        self.bookings[confirmation_number] = {\n",
    "            \"PAN Card\": pan_card,\n",
    "            \"Name\": name,\n",
    "            \"Mobile Number\": mobile_number\n",
    "        }\n",
    "        \n",
    "        print(f\"Booking successful! Your confirmation number is: {confirmation_number}\")\n",
    "        return confirmation_number\n",
    "\n",
    "    def booking_details(self, confirmation_number):\n",
    "        return self.bookings.get(confirmation_number, \"Booking not found.\")\n",
    "\n",
    "hotel = HotelBooking()\n",
    "\n",
    "pan_card = input(\"Enter PAN Card: \")\n",
    "name = input(\"Enter Name: \")\n",
    "mobile_number = input(\"Enter Mobile Number: \")\n",
    "\n",
    "confirmation_number = hotel.book_room(pan_card, name, mobile_number)\n",
    "\n",
    "print(\"\\nBooking Details:\")\n",
    "print(hotel.booking_details(confirmation_number))"
   ]
  },
  {
   "cell_type": "markdown",
   "metadata": {},
   "source": [
    "33.Create a super class user. Having methods register, sing in, sign out.    Super class can be inherited by student, professor, admin\n",
    "\n",
    "Admin and students can view the marks and professor can enter the marks\n",
    "But marks can be visible to students on the given result date\n"
   ]
  },
  {
   "cell_type": "code",
   "execution_count": 16,
   "metadata": {},
   "outputs": [
    {
     "name": "stdout",
     "output_type": "stream",
     "text": [
      "Registration successful.\n",
      "Registration successful.\n",
      "Registration successful.\n",
      "prof1 signed in successfully.\n",
      "Marks entered for student1 in Math: 85\n",
      "Marks entered for student1 in Science: 90\n",
      "prof1 signed out.\n",
      "admin1 signed in successfully.\n",
      "Admin can view all marks.\n",
      "{'student1': {'Math': 85, 'Science': 90}}\n",
      "admin1 signed out.\n",
      "student1 signed in successfully.\n",
      "student1 can view marks.\n",
      "{'student1': {'Math': 85, 'Science': 90}}\n",
      "student1 signed out.\n"
     ]
    }
   ],
   "source": [
    "from datetime import datetime\n",
    "class User:                   # Super class\n",
    "    users = {}   \n",
    "    def __init__(self, username, password):\n",
    "        self.username = username\n",
    "        self.password = password\n",
    "        self.logged_in = False\n",
    "        \n",
    "    def register(self):\n",
    "        if self.username in User.users:\n",
    "            print(\"Username already exists.\")\n",
    "        else:\n",
    "            User.users[self.username] = self.password\n",
    "            print(\"Registration successful.\")\n",
    "    \n",
    "    def sign_in(self):\n",
    "        if self.username in User.users and User.users[self.username] == self.password:\n",
    "            self.logged_in = True\n",
    "            print(f\"{self.username} signed in successfully.\")\n",
    "        else:\n",
    "            print(\"Invalid username or password.\")\n",
    "    \n",
    "    def sign_out(self):\n",
    "        if self.logged_in:\n",
    "            self.logged_in = False\n",
    "            print(f\"{self.username} signed out.\")\n",
    "        else:\n",
    "            print(\"You are not signed in.\")\n",
    "\n",
    "class Student(User):              # Subclass for Student\n",
    "    def __init__(self, username, password):\n",
    "        super().__init__(username, password)\n",
    "    \n",
    "    def view_marks(self, result_date):\n",
    "        current_date = datetime.now().date()\n",
    "        if current_date >= result_date:\n",
    "            print(f\"{self.username} can view marks.\")\n",
    "            print(MarksDatabase.marks)\n",
    "        else:\n",
    "            print(\"Marks are not available yet. Please wait until the result date.\")\n",
    "\n",
    "class Professor(User):\n",
    "    def __init__(self, username, password):\n",
    "        super().__init__(username, password)\n",
    "    \n",
    "    def enter_marks(self, student_name, subject, marks):\n",
    "        if self.logged_in:\n",
    "            if student_name not in MarksDatabase.marks:\n",
    "                MarksDatabase.marks[student_name] = {}\n",
    "            MarksDatabase.marks[student_name][subject] = marks\n",
    "            print(f\"Marks entered for {student_name} in {subject}: {marks}\")\n",
    "        else:\n",
    "            print(\"Please sign in to enter marks.\")\n",
    "\n",
    "class Admin(User):\n",
    "    def __init__(self, username, password):\n",
    "        super().__init__(username, password)\n",
    "    \n",
    "    def view_all_marks(self):\n",
    "        if self.logged_in:\n",
    "            print(\"Admin can view all marks.\")\n",
    "            print(MarksDatabase.marks)\n",
    "        else:\n",
    "            print(\"Please sign in to view marks.\")\n",
    "\n",
    "class MarksDatabase:\n",
    "    marks = {}\n",
    "\n",
    "student1 = Student(\"student1\", \"pass123\")\n",
    "professor1 = Professor(\"prof1\", \"pass456\")\n",
    "admin1 = Admin(\"admin1\", \"adminpass\")\n",
    "\n",
    "student1.register()\n",
    "professor1.register()\n",
    "admin1.register()\n",
    "\n",
    "professor1.sign_in()\n",
    "professor1.enter_marks(\"student1\", \"Math\", 85)\n",
    "professor1.enter_marks(\"student1\", \"Science\", 90)\n",
    "professor1.sign_out()\n",
    "\n",
    "admin1.sign_in()\n",
    "admin1.view_all_marks()\n",
    "admin1.sign_out()\n",
    "\n",
    "result_date = datetime.now().date()\n",
    "\n",
    "student1.sign_in()\n",
    "student1.view_marks(result_date)\n",
    "student1.sign_out()"
   ]
  },
  {
   "cell_type": "markdown",
   "metadata": {},
   "source": [
    "34.Create suitable classes, methods and attributes for resume exchange. Employee to upload the file and the same file is visible to employer "
   ]
  },
  {
   "cell_type": "code",
   "execution_count": null,
   "metadata": {},
   "outputs": [
    {
     "name": "stdout",
     "output_type": "stream",
     "text": [
      "Resume 'John_Resume.pdf' uploaded successfully by JohnDoe.\n",
      "Resume 'Jane_Resume.pdf' uploaded successfully by JaneSmith.\n",
      "Available Resumes:\n",
      "\n",
      "Employee: JohnDoe\n",
      "File Name: John_Resume.pdf\n",
      "Content: Content of John's Resume\n",
      "\n",
      "Employee: JaneSmith\n",
      "File Name: Jane_Resume.pdf\n",
      "Content: Content of Jane's Resume\n"
     ]
    }
   ],
   "source": [
    "class ResumeDatabase:\n",
    "    resumes = {}\n",
    "\n",
    "# Super Class\n",
    "class User:\n",
    "    def __init__(self, username, role):\n",
    "        self.username = username\n",
    "        self.role = role\n",
    "    \n",
    "    def get_role(self):\n",
    "        return self.role\n",
    "\n",
    "# Subclass for Employee\n",
    "class Employee(User):\n",
    "    def __init__(self, username):\n",
    "        super().__init__(username, role=\"Employee\")\n",
    "    \n",
    "    def upload_resume(self, file_name, file_content):\n",
    "        ResumeDatabase.resumes[self.username] = {\n",
    "            \"file_name\": file_name,\n",
    "            \"file_content\": file_content\n",
    "        }\n",
    "        print(f\"Resume '{file_name}' uploaded successfully by {self.username}.\")\n",
    "\n",
    "# Subclass for Employer\n",
    "class Employer(User):\n",
    "    def __init__(self, username):\n",
    "        super().__init__(username, role=\"Employer\")\n",
    "    \n",
    "    def view_resumes(self):\n",
    "        if ResumeDatabase.resumes:\n",
    "            print(\"Available Resumes:\")\n",
    "            for employee, resume in ResumeDatabase.resumes.items():\n",
    "                print(f\"\\nEmployee: {employee}\")\n",
    "                print(f\"File Name: {resume['file_name']}\")\n",
    "                print(f\"Content: {resume['file_content']}\")\n",
    "        else:\n",
    "            print(\"No resumes available.\")\n",
    "\n",
    "\n",
    "employee1 = Employee(\"JohnDoe\")\n",
    "employee2 = Employee(\"JaneSmith\")\n",
    "employer1 = Employer(\"HRManager\")\n",
    "\n",
    "employee1.upload_resume(\"John_Resume.pdf\", \"Content of John's Resume\")\n",
    "employee2.upload_resume(\"Jane_Resume.pdf\", \"Content of Jane's Resume\")\n",
    "\n",
    "employer1.view_resumes()"
   ]
  },
  {
   "cell_type": "markdown",
   "metadata": {},
   "source": [
    "35.Perform the database connectivity and save all employee details in the database \n",
    "Like name, mobile, address\n",
    "\n",
    "Create the proper class with methods like user information, calculate the salary, apply for the leave, view leaves, approve leaves. Records for leave application should be stored in dummy table (temporary view). Once the leave is approved then it should move to permanent table.\n"
   ]
  },
  {
   "cell_type": "code",
   "execution_count": null,
   "metadata": {},
   "outputs": [
    {
     "name": "stdout",
     "output_type": "stream",
     "text": [
      "Employee John Doe information saved successfully.\n",
      "Employee Jane Smith information saved successfully.\n",
      "Salary for John Doe is: 25000\n",
      "Leave applied from 2025-03-01 to 2025-03-05 for Vacation.\n",
      "\n",
      "Viewing Leaves before Approval:\n",
      "Leave Records for John Doe:\n",
      "Leave ID 1 approved and moved to permanent records.\n",
      "\n",
      "Viewing Leaves after Approval:\n",
      "Leave Records for John Doe:\n",
      "(1, 1, '2025-03-01', '2025-03-05', 'Vacation', 'Approved')\n"
     ]
    }
   ],
   "source": [
    "import sqlite3\n",
    "from datetime import datetime\n",
    "\n",
    "# Database Connection\n",
    "class Database:\n",
    "    def __init__(self, db_name=\"employee_management.db\"):\n",
    "        self.connection = sqlite3.connect(db_name)\n",
    "        self.cursor = self.connection.cursor()\n",
    "        self.create_tables()\n",
    "\n",
    "    def create_tables(self):\n",
    "        # Create Employee Table\n",
    "        self.cursor.execute(\"\"\"\n",
    "            CREATE TABLE IF NOT EXISTS Employee (\n",
    "                emp_id INTEGER PRIMARY KEY AUTOINCREMENT,\n",
    "                name TEXT NOT NULL,\n",
    "                mobile TEXT NOT NULL,\n",
    "                address TEXT NOT NULL\n",
    "            );\n",
    "        \"\"\")\n",
    "        \n",
    "        # Create Temporary Leave Table\n",
    "        self.cursor.execute(\"\"\"\n",
    "            CREATE TABLE IF NOT EXISTS TempLeave (\n",
    "                leave_id INTEGER PRIMARY KEY AUTOINCREMENT,\n",
    "                emp_id INTEGER,\n",
    "                start_date TEXT,\n",
    "                end_date TEXT,\n",
    "                reason TEXT,\n",
    "                status TEXT DEFAULT 'Pending',\n",
    "                FOREIGN KEY (emp_id) REFERENCES Employee(emp_id)\n",
    "            );\n",
    "        \"\"\")\n",
    "        \n",
    "        # Create Permanent Leave Table\n",
    "        self.cursor.execute(\"\"\"\n",
    "            CREATE TABLE IF NOT EXISTS PermLeave (\n",
    "                leave_id INTEGER PRIMARY KEY AUTOINCREMENT,\n",
    "                emp_id INTEGER,\n",
    "                start_date TEXT,\n",
    "                end_date TEXT,\n",
    "                reason TEXT,\n",
    "                status TEXT,\n",
    "                FOREIGN KEY (emp_id) REFERENCES Employee(emp_id)\n",
    "            );\n",
    "        \"\"\")\n",
    "        \n",
    "        self.connection.commit()\n",
    "\n",
    "    def close_connection(self):\n",
    "        self.connection.close()\n",
    "\n",
    "# Employee Class\n",
    "class Employee:\n",
    "    def __init__(self, name, mobile, address):\n",
    "        self.name = name\n",
    "        self.mobile = mobile\n",
    "        self.address = address\n",
    "        self.db = Database()\n",
    "        \n",
    "    def user_information(self):\n",
    "        # Save employee details to the database\n",
    "        self.db.cursor.execute(\"\"\"\n",
    "            INSERT INTO Employee (name, mobile, address) VALUES (?, ?, ?);\n",
    "        \"\"\", (self.name, self.mobile, self.address))\n",
    "        self.db.connection.commit()\n",
    "        print(f\"Employee {self.name} information saved successfully.\")\n",
    "\n",
    "    def calculate_salary(self, base_salary, days_worked):\n",
    "        # Assuming simple calculation: Salary = Base Salary * Days Worked\n",
    "        salary = base_salary * days_worked\n",
    "        print(f\"Salary for {self.name} is: {salary}\")\n",
    "        return salary\n",
    "\n",
    "    def apply_leave(self, start_date, end_date, reason):\n",
    "        # Apply for leave (Stored in Temporary Leave Table)\n",
    "        self.db.cursor.execute(\"\"\"\n",
    "            SELECT emp_id FROM Employee WHERE name = ? AND mobile = ?;\n",
    "        \"\"\", (self.name, self.mobile))\n",
    "        emp_id = self.db.cursor.fetchone()\n",
    "        \n",
    "        if emp_id:\n",
    "            self.db.cursor.execute(\"\"\"\n",
    "                INSERT INTO TempLeave (emp_id, start_date, end_date, reason)\n",
    "                VALUES (?, ?, ?, ?);\n",
    "            \"\"\", (emp_id[0], start_date, end_date, reason))\n",
    "            self.db.connection.commit()\n",
    "            print(f\"Leave applied from {start_date} to {end_date} for {reason}.\")\n",
    "        else:\n",
    "            print(\"Employee not found. Cannot apply for leave.\")\n",
    "\n",
    "    def view_leaves(self):\n",
    "        # View Leaves (From Permanent Leave Table)\n",
    "        self.db.cursor.execute(\"\"\"\n",
    "            SELECT * FROM PermLeave WHERE emp_id = (\n",
    "                SELECT emp_id FROM Employee WHERE name = ? AND mobile = ?\n",
    "            );\n",
    "        \"\"\", (self.name, self.mobile))\n",
    "        leaves = self.db.cursor.fetchall()\n",
    "        \n",
    "        print(f\"Leave Records for {self.name}:\")\n",
    "        for leave in leaves:\n",
    "            print(leave)\n",
    "\n",
    "# Admin Class for Approving Leaves\n",
    "class Admin:\n",
    "    def __init__(self):\n",
    "        self.db = Database()\n",
    "        \n",
    "    def approve_leave(self, leave_id):\n",
    "        # Approve leave (Move from TempLeave to PermLeave)\n",
    "        self.db.cursor.execute(\"\"\"\n",
    "            SELECT * FROM TempLeave WHERE leave_id = ?;\n",
    "        \"\"\", (leave_id,))\n",
    "        leave_record = self.db.cursor.fetchone()\n",
    "        \n",
    "        if leave_record:\n",
    "            self.db.cursor.execute(\"\"\"\n",
    "                INSERT INTO PermLeave (emp_id, start_date, end_date, reason, status)\n",
    "                VALUES (?, ?, ?, ?, 'Approved');\n",
    "            \"\"\", (leave_record[1], leave_record[2], leave_record[3], leave_record[4]))\n",
    "            \n",
    "            self.db.cursor.execute(\"\"\"\n",
    "                DELETE FROM TempLeave WHERE leave_id = ?;\n",
    "            \"\"\", (leave_id,))\n",
    "            \n",
    "            self.db.connection.commit()\n",
    "            print(f\"Leave ID {leave_id} approved and moved to permanent records.\")\n",
    "        else:\n",
    "            print(\"Leave ID not found or already approved.\")\n",
    "\n",
    "employee1 = Employee(\"John Doe\", \"9876543210\", \"123 Street, City\")\n",
    "employee2 = Employee(\"Jane Smith\", \"8765432109\", \"456 Avenue, City\")\n",
    "\n",
    "# Save User Information\n",
    "employee1.user_information()\n",
    "employee2.user_information()\n",
    "\n",
    "# Calculate Salary\n",
    "employee1.calculate_salary(base_salary=1000, days_worked=25)\n",
    "\n",
    "# Apply for Leave\n",
    "employee1.apply_leave(start_date=\"2025-03-01\", end_date=\"2025-03-05\", reason=\"Vacation\")\n",
    "\n",
    "# View Leaves before Approval\n",
    "print(\"\\nViewing Leaves before Approval:\")\n",
    "employee1.view_leaves()\n",
    "\n",
    "# Admin Approves Leave\n",
    "admin = Admin()\n",
    "admin.approve_leave(leave_id=1)\n",
    "\n",
    "# View Leaves after Approval\n",
    "print(\"\\nViewing Leaves after Approval:\")\n",
    "employee1.view_leaves()"
   ]
  },
  {
   "cell_type": "code",
   "execution_count": null,
   "metadata": {},
   "outputs": [],
   "source": []
  }
 ],
 "metadata": {
  "kernelspec": {
   "display_name": "Python 3",
   "language": "python",
   "name": "python3"
  },
  "language_info": {
   "codemirror_mode": {
    "name": "ipython",
    "version": 3
   },
   "file_extension": ".py",
   "mimetype": "text/x-python",
   "name": "python",
   "nbconvert_exporter": "python",
   "pygments_lexer": "ipython3",
   "version": "3.12.3"
  }
 },
 "nbformat": 4,
 "nbformat_minor": 2
}
