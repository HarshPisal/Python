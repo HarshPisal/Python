{
 "cells": [
  {
   "cell_type": "code",
   "execution_count": 2,
   "metadata": {},
   "outputs": [
    {
     "name": "stdout",
     "output_type": "stream",
     "text": [
      "Your age is: 22 years\n"
     ]
    }
   ],
   "source": [
    "# Task-6: Calculate the age based on the date entered \n",
    "\n",
    "from datetime import datetime\n",
    "\n",
    "def calculate_age(birth_date_str):\n",
    "    \n",
    "    birth_date = datetime.strptime(birth_date_str, \"%Y-%m-%d\")\n",
    "    \n",
    "    today = datetime.today()\n",
    "\n",
    "    age = today.year - birth_date.year\n",
    "    \n",
    "    if (today.month, today.day) < (birth_date.month, birth_date.day):\n",
    "        age -= 1\n",
    "    \n",
    "    return age\n",
    "\n",
    "birth_date_input = input(\"Enter your birthdate (YYYY-MM-DD): \")\n",
    "age = calculate_age(birth_date_input)\n",
    "print(f\"Your age is: {age} years\")\n"
   ]
  }
 ],
 "metadata": {
  "kernelspec": {
   "display_name": "Python 3",
   "language": "python",
   "name": "python3"
  },
  "language_info": {
   "codemirror_mode": {
    "name": "ipython",
    "version": 3
   },
   "file_extension": ".py",
   "mimetype": "text/x-python",
   "name": "python",
   "nbconvert_exporter": "python",
   "pygments_lexer": "ipython3",
   "version": "3.12.3"
  }
 },
 "nbformat": 4,
 "nbformat_minor": 2
}
