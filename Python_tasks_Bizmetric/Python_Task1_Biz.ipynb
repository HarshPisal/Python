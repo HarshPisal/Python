{
 "cells": [
  {
   "cell_type": "code",
   "execution_count": 1,
   "metadata": {},
   "outputs": [
    {
     "name": "stdout",
     "output_type": "stream",
     "text": [
      "['Harsh', 'abc']\n",
      "[1, 2, 11]\n"
     ]
    }
   ],
   "source": [
    "# Question.1) Create the list of mix element by asking user to enter the values. Segregate the mixed data type list into two different list \n",
    "\n",
    "list1=[\"Harsh\",1,2,\"abc\",11]\n",
    "l_char=[]\n",
    "l_num=[]\n",
    "for i in list1:\n",
    "    if type(i)==str:\n",
    "        l_char.append(i)\n",
    "    else:\n",
    "        l_num.append(i)\n",
    "print(l_char)\n",
    "print(l_num)"
   ]
  }
 ],
 "metadata": {
  "kernelspec": {
   "display_name": "Python 3",
   "language": "python",
   "name": "python3"
  },
  "language_info": {
   "codemirror_mode": {
    "name": "ipython",
    "version": 3
   },
   "file_extension": ".py",
   "mimetype": "text/x-python",
   "name": "python",
   "nbconvert_exporter": "python",
   "pygments_lexer": "ipython3",
   "version": "3.12.3"
  }
 },
 "nbformat": 4,
 "nbformat_minor": 2
}
