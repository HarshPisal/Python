{
 "cells": [
  {
   "cell_type": "code",
   "execution_count": 1,
   "metadata": {},
   "outputs": [
    {
     "name": "stdout",
     "output_type": "stream",
     "text": [
      "                Welcome to Nisarg                 \n",
      "Menu\n",
      "Pohe - 20 rs per unit\n",
      "idli - 30 rs per unit\n",
      "chaha - 12 rs per unit\n",
      "vadapav - 20 rs per unit\n",
      "==================================================\n",
      "Order      Quantity             Total Price\n",
      "\n",
      "                    Your Bill                     \n",
      "Item                 Quantity   Total     \n",
      "--------------------------------------------------\n",
      "Pohe                 2          40        \n",
      "chaha                3          36        \n",
      "--------------------------------------------------\n",
      "                            Grand Total: 76        \n"
     ]
    }
   ],
   "source": [
    "# Task-3 : Generate the bill with proper format to create the bill file. User may enter more than 1 element \n",
    "\n",
    "menu = {'Pohe': 20, 'idli': 30, 'chaha': 12, 'vadapav': 20}\n",
    "\n",
    "snack = menu.keys()\n",
    "amount = menu.values()\n",
    "items = list(snack)\n",
    "prices = list(amount)\n",
    "\n",
    "print(\"{:^50}\".format(\"Welcome to Nisarg\"))\n",
    "print(\"Menu\")\n",
    "for i in range(len(menu)):\n",
    "    print(f\"{items[i]} - {prices[i]} rs per unit\")\n",
    "print(\"{:=^50}\".format(\"\"))\n",
    "\n",
    "order = {}\n",
    "print(\"{:10} {:20} {:}\".format(\"Order\", \"Quantity\", \"Total Price\"))\n",
    "\n",
    "while True:\n",
    "    user_input = input(\"Enter the food items and quantities (e.g., Pohe 2,idli 3) or type 'done' to finish: \")\n",
    "\n",
    "    if user_input.lower() == 'done':\n",
    "        break\n",
    "\n",
    "    items_input = user_input.split(',')\n",
    "    for entry in items_input:\n",
    "        try:\n",
    "            item, quantity = entry.strip().split()\n",
    "            quantity = int(quantity)\n",
    "            if item in menu:\n",
    "                if item in order:\n",
    "                    order[item] += quantity\n",
    "                else:\n",
    "                    order[item] = quantity\n",
    "            else:\n",
    "                print(f\"{item} is not in the menu.\")\n",
    "        except ValueError:\n",
    "            print(\"Invalid input format. Please use the format: item quantity.\")\n",
    "\n",
    "if order:\n",
    "    print(\"\\n{:^50}\".format(\"Your Bill\"))\n",
    "    print(\"{:<20} {:<10} {:<10}\".format(\"Item\", \"Quantity\", \"Total\"))\n",
    "    print(\"-\" * 50)\n",
    "    total = 0\n",
    "    for item, quantity in order.items():\n",
    "        item_total = menu[item] * quantity\n",
    "        print(\"{:<20} {:<10} {:<10}\".format(item, quantity, item_total))\n",
    "        total += item_total\n",
    "    print(\"-\" * 50)\n",
    "    print(\"{:>40} {:<10}\".format(\"Grand Total:\", total))\n",
    "else:\n",
    "    print(\"No items ordered. Thank you!\")\n"
   ]
  }
 ],
 "metadata": {
  "kernelspec": {
   "display_name": "Python 3",
   "language": "python",
   "name": "python3"
  },
  "language_info": {
   "codemirror_mode": {
    "name": "ipython",
    "version": 3
   },
   "file_extension": ".py",
   "mimetype": "text/x-python",
   "name": "python",
   "nbconvert_exporter": "python",
   "pygments_lexer": "ipython3",
   "version": "3.12.3"
  }
 },
 "nbformat": 4,
 "nbformat_minor": 2
}
