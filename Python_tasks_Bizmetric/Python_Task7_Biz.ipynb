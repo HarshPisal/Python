{
 "cells": [
  {
   "cell_type": "code",
   "execution_count": 1,
   "metadata": {},
   "outputs": [
    {
     "name": "stdout",
     "output_type": "stream",
     "text": [
      "C:\\Users\\HARSH\\OneDrive\\Desktop\\HARSH_BIZMETRIC\\Background_Verification.pdf 727.173\n",
      "C:\\Users\\HARSH\\OneDrive\\Desktop\\HARSH_BIZMETRIC\\Document_Verification.pdf 1268.229\n",
      "C:\\Users\\HARSH\\OneDrive\\Desktop\\HARSH_BIZMETRIC\\Harsh Sadashiv Pisal_Offer Letter.pdf 205.755\n",
      "C:\\Users\\HARSH\\OneDrive\\Desktop\\HARSH_BIZMETRIC\\Harsh_Bizmetric_Documents.zip 2391.338\n",
      "C:\\Users\\HARSH\\OneDrive\\Desktop\\HARSH_BIZMETRIC\\NDA (Biz-Metric) Harsh.pdf 454.022\n",
      "C:\\Users\\HARSH\\OneDrive\\Desktop\\HARSH_BIZMETRIC\\SERVICE AGREEMENT Harsh.docx 17.932\n",
      "C:\\Users\\HARSH\\OneDrive\\Desktop\\HARSH_BIZMETRIC\\Service_Agreement_Harsh Pisal.pdf 3662.479\n"
     ]
    }
   ],
   "source": [
    "# Task:7 - Create a logic to segregate folders based on file size. Make 3 folders small size, middle size , large size folder and transfer the files to respective folders \n",
    "\n",
    "import os\n",
    "import shutil\n",
    "for i in os.listdir(\"C:\\\\Users\\\\HARSH\\\\OneDrive\\\\Desktop\\\\HARSH_BIZMETRIC\"):\n",
    "    filename=\"C:\\\\Users\\\\HARSH\\\\OneDrive\\\\Desktop\\\\HARSH_BIZMETRIC\\\\\"+i\n",
    "    sz=os.stat(filename).st_size/1000\n",
    "    print(filename,sz)\n",
    "\n",
    "    if sz>0 and sz<=500:\n",
    "       shutil.copy(filename,\"C:\\\\Users\\\\HARSH\\\\OneDrive\\\\Desktop\\\\Bizmetric_Python\\\\data1\")\n",
    "    elif sz>500 and sz<=1000:\n",
    "       shutil.copy(filename,\"C:\\\\Users\\\\HARSH\\\\OneDrive\\\\Desktop\\\\Bizmetric_Python\\\\data2\")\n",
    "    else:\n",
    "       shutil.copy(filename,\"C:\\\\Users\\\\HARSH\\\\OneDrive\\\\Desktop\\\\Bizmetric_Python\\\\data3\")"
   ]
  }
 ],
 "metadata": {
  "kernelspec": {
   "display_name": "Python 3",
   "language": "python",
   "name": "python3"
  },
  "language_info": {
   "codemirror_mode": {
    "name": "ipython",
    "version": 3
   },
   "file_extension": ".py",
   "mimetype": "text/x-python",
   "name": "python",
   "nbconvert_exporter": "python",
   "pygments_lexer": "ipython3",
   "version": "3.12.3"
  }
 },
 "nbformat": 4,
 "nbformat_minor": 2
}
