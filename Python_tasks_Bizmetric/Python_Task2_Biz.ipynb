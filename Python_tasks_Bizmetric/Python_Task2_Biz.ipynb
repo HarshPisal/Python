{
 "cells": [
  {
   "cell_type": "code",
   "execution_count": 1,
   "metadata": {},
   "outputs": [
    {
     "name": "stdout",
     "output_type": "stream",
     "text": [
      "2025-01-18 is a weekend.\n",
      "2025-01-19 is a weekend.\n",
      "{'2025-01-17': 'Cricket', '2025-01-20': 'Dinner', '2025-01-21': 'Movie', '2025-01-22': 'Exam'}\n"
     ]
    }
   ],
   "source": [
    "# Task-2 : User will enter the start date and end date. Ask user to enter the task to be done on weekdays. If it is weekend then no task should be allotted. \n",
    "\n",
    "start_date=input(\"Enter the date in format YYYY-MM-DD\")\n",
    "end_date=input(\"Enter the date in format YYYY-MM-DD\")\n",
    "\n",
    "from datetime import datetime\n",
    "from datetime import date\n",
    "from datetime import time\n",
    "str_date=datetime.strptime(start_date,\"%Y-%m-%d\")\n",
    "ed_date=datetime.strptime(end_date,\"%Y-%m-%d\")\n",
    "\n",
    "from datetime import timedelta\n",
    "\n",
    "task={}\n",
    "currentdate=str_date\n",
    "while currentdate<=ed_date:\n",
    "    if currentdate.weekday() < 5:\n",
    "        task[str(currentdate.date())]=input(f\"Task for {currentdate.date()}:\")\n",
    "    else:\n",
    "        print(f\"{currentdate.date()} is a weekend.\")\n",
    "    currentdate+=timedelta(days=1)\n",
    "    \n",
    "print(task)"
   ]
  }
 ],
 "metadata": {
  "kernelspec": {
   "display_name": "Python 3",
   "language": "python",
   "name": "python3"
  },
  "language_info": {
   "codemirror_mode": {
    "name": "ipython",
    "version": 3
   },
   "file_extension": ".py",
   "mimetype": "text/x-python",
   "name": "python",
   "nbconvert_exporter": "python",
   "pygments_lexer": "ipython3",
   "version": "3.12.3"
  }
 },
 "nbformat": 4,
 "nbformat_minor": 2
}
