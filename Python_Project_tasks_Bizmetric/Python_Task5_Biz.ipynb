{
 "cells": [
  {
   "cell_type": "code",
   "execution_count": 1,
   "metadata": {},
   "outputs": [
    {
     "data": {
      "text/plain": [
       "'Hello Harsh Youe email_id is harshpisal007@gmail.com'"
      ]
     },
     "execution_count": 1,
     "metadata": {},
     "output_type": "execute_result"
    }
   ],
   "source": [
    "# Task-5: Create lambda function for your data \n",
    "\n",
    "name=input(\"Enter the name\")\n",
    "Email_id=input(\"Enter Email_id\")\n",
    "a=lambda name,Email_id:\"Hello {} Youe email_id is {}\".format(name.capitalize(),Email_id) if Email_id.endswith(\"@gmail.com\") else \"Hello {} invalid email_id\".format(name.capitalize())\n",
    "a(name,Email_id)"
   ]
  },
  {
   "cell_type": "code",
   "execution_count": 2,
   "metadata": {},
   "outputs": [
    {
     "data": {
      "text/plain": [
       "\"<re.Match object; span=(0, 5), match='Harsh'> valid Password\""
      ]
     },
     "execution_count": 2,
     "metadata": {},
     "output_type": "execute_result"
    }
   ],
   "source": [
    "import re\n",
    "password=input(\"Enter your password\")\n",
    "pattern=\"[A-z]*[0-9,a-z]*\"\n",
    "b=lambda password:\"{} valid Password\".format(re.match(pattern,password),password)\n",
    "b(password)\n"
   ]
  }
 ],
 "metadata": {
  "kernelspec": {
   "display_name": "Python 3",
   "language": "python",
   "name": "python3"
  },
  "language_info": {
   "codemirror_mode": {
    "name": "ipython",
    "version": 3
   },
   "file_extension": ".py",
   "mimetype": "text/x-python",
   "name": "python",
   "nbconvert_exporter": "python",
   "pygments_lexer": "ipython3",
   "version": "3.12.3"
  }
 },
 "nbformat": 4,
 "nbformat_minor": 2
}
