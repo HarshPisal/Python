{
 "cells": [
  {
   "cell_type": "code",
   "execution_count": 10,
   "metadata": {},
   "outputs": [
    {
     "name": "stdout",
     "output_type": "stream",
     "text": [
      "Login Successfully\n"
     ]
    }
   ],
   "source": [
    "# Task-4 : Based on database ask user to enter the values and store the same in the variable with validation \n",
    "\n",
    "import re\n",
    "def val_name(name):\n",
    "    pattern = r\"^[A-Z][a-z]* [A-Z][a-z]*$\"\n",
    "    if re.match(pattern, name):\n",
    "        print(\"Login Successfully\")\n",
    "    else:\n",
    "        print(\"INVALID: Name must start with uppercase letters and contain first and last name.\")\n",
    "name=input(\"Enter the name\")\n",
    "val_name(name)"
   ]
  },
  {
   "cell_type": "code",
   "execution_count": 14,
   "metadata": {},
   "outputs": [
    {
     "name": "stdout",
     "output_type": "stream",
     "text": [
      "(True, 'Valid paasword')\n"
     ]
    }
   ],
   "source": [
    "import re\n",
    "def val_password(password):\n",
    "    if re.fullmatch(r\"[A-Za-z0-9]*[@!#%^&][A-Za-z0-9]*\", password):\n",
    "        return True, \"Valid paasword\"\n",
    "    else:\n",
    "        return False, (\n",
    "            \"Invalid password: Password must contain at least one special character \"\n",
    "            \"(@, !, #, %, &, ^) and alphanumeric characters.\"\n",
    "        )\n",
    "if __name__ == \"__main__\":\n",
    "    print(val_password(input(\"Enter the password\")))"
   ]
  },
  {
   "cell_type": "code",
   "execution_count": 15,
   "metadata": {},
   "outputs": [
    {
     "name": "stdout",
     "output_type": "stream",
     "text": [
      "Successfully login\n"
     ]
    }
   ],
   "source": [
    "import re\n",
    "def Email_id():\n",
    "    c=input(\"Enter Email id\")\n",
    "    pattern=\"^[a-z]*[0-9]*@gmail.com$\"\n",
    "    pattern1=\"^[a-z]*[0-9]*@yahoo.com$\"\n",
    "    if (re.match(pattern,c)) or (re.match(pattern1,c)):\n",
    "       print(\"Successfully login\")\n",
    "    else:\n",
    "        print(\"invalid\")\n",
    "Email_id()   "
   ]
  }
 ],
 "metadata": {
  "kernelspec": {
   "display_name": "Python 3",
   "language": "python",
   "name": "python3"
  },
  "language_info": {
   "codemirror_mode": {
    "name": "ipython",
    "version": 3
   },
   "file_extension": ".py",
   "mimetype": "text/x-python",
   "name": "python",
   "nbconvert_exporter": "python",
   "pygments_lexer": "ipython3",
   "version": "3.12.3"
  }
 },
 "nbformat": 4,
 "nbformat_minor": 2
}
