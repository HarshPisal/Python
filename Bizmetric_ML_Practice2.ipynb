{
 "cells": [
  {
   "cell_type": "code",
   "execution_count": 15,
   "id": "f5508cc9",
   "metadata": {},
   "outputs": [
    {
     "name": "stdout",
     "output_type": "stream",
     "text": [
      "       wage  exper  union  goodhlth  black  female  married  service  educ  \\\n",
      "0      5.73     30      0         1      0       1        1        1    14   \n",
      "1      4.28     28      0         1      0       1        1        0    12   \n",
      "2      7.96     35      0         1      0       1        0        0    10   \n",
      "3     11.57     38      0         1      0       0        1        1    16   \n",
      "4     11.42     27      0         1      0       0        1        0    16   \n",
      "...     ...    ...    ...       ...    ...     ...      ...      ...   ...   \n",
      "1255   1.61     25      0         1      1       1        0        1    12   \n",
      "1256   1.68      4      0         1      0       1        1        1    12   \n",
      "1257   3.29     35      0         1      1       1        0        1    12   \n",
      "1258   2.31     15      0         1      1       1        1        1    10   \n",
      "1259   1.92     24      0         0      0       1        0        1    16   \n",
      "\n",
      "      looks  \n",
      "0         4  \n",
      "1         3  \n",
      "2         4  \n",
      "3         3  \n",
      "4         3  \n",
      "...     ...  \n",
      "1255      3  \n",
      "1256      2  \n",
      "1257      3  \n",
      "1258      3  \n",
      "1259      3  \n",
      "\n",
      "[1260 rows x 10 columns]\n"
     ]
    }
   ],
   "source": [
    "# Read the beauty.csv.\n",
    "\n",
    "# Implement the classification with various models and grid search cv.Ignore y column and create 3 groups using cluster techniques\n",
    "\n",
    "import pandas as pd\n",
    "\n",
    "beauty = pd.read_csv(\"C:\\\\Users\\\\HARSH\\\\OneDrive\\\\Desktop\\\\Bizmetric_Python\\\\datasets\\\\datasets\\\\beauty.csv\")  \n",
    "print(beauty)"
   ]
  },
  {
   "cell_type": "code",
   "execution_count": 11,
   "id": "89ff6349",
   "metadata": {},
   "outputs": [
    {
     "data": {
      "text/plain": [
       "array([[-0.12378548,  0.98619536, -0.61159284, ...,  1.62854963,\n",
       "         0.54756497,  1.18942312],\n",
       "       [-0.43502515,  0.81895361, -0.61159284, ..., -0.6140433 ,\n",
       "        -0.21479068, -0.27127194],\n",
       "       [ 0.35487966,  1.40429971, -0.61159284, ..., -0.6140433 ,\n",
       "        -0.97714632,  1.18942312],\n",
       "       ...,\n",
       "       [-0.64752672,  1.40429971, -0.61159284, ...,  1.62854963,\n",
       "        -0.21479068, -0.27127194],\n",
       "       [-0.8578818 , -0.26811771, -0.61159284, ...,  1.62854963,\n",
       "        -0.97714632, -0.27127194],\n",
       "       [-0.94159454,  0.48447013, -0.61159284, ...,  1.62854963,\n",
       "         1.30992061, -0.27127194]])"
      ]
     },
     "execution_count": 11,
     "metadata": {},
     "output_type": "execute_result"
    }
   ],
   "source": [
    "from sklearn.preprocessing import StandardScaler\n",
    "from sklearn.cluster import KMeans\n",
    "from sklearn.model_selection import train_test_split, GridSearchCV\n",
    "from sklearn.linear_model import LogisticRegression\n",
    "from sklearn.ensemble import RandomForestClassifier\n",
    "from sklearn.svm import SVC\n",
    "from sklearn.metrics import classification_report, accuracy_score\n",
    "\n",
    "# Feature Scaling\n",
    "\n",
    "scaler = StandardScaler()\n",
    "X_scaled = scaler.fit_transform(beauty)\n",
    "X_scaled"
   ]
  },
  {
   "cell_type": "code",
   "execution_count": 3,
   "id": "a5b22e93",
   "metadata": {},
   "outputs": [
    {
     "data": {
      "text/plain": [
       "array([2, 2, 2, ..., 2, 2, 0])"
      ]
     },
     "execution_count": 3,
     "metadata": {},
     "output_type": "execute_result"
    }
   ],
   "source": [
    "# Creating cluster labels (unsupervised learning)\n",
    "\n",
    "kmeans = KMeans(n_clusters=3, random_state=42, n_init=10)\n",
    "clusters = kmeans.fit_predict(X_scaled)\n",
    "clusters"
   ]
  },
  {
   "cell_type": "code",
   "execution_count": 6,
   "id": "ad64252b",
   "metadata": {},
   "outputs": [],
   "source": [
    "# Preparing dataset for classification\n",
    "\n",
    "beauty['cluster'] = clusters\n",
    "X = beauty.drop(columns=['cluster'])  # Features\n",
    "y = beauty['cluster']                 # Labels\n",
    "\n",
    "# Spliting the dataset\n",
    "\n",
    "X_train, X_test, y_train, y_test = train_test_split(X, y, test_size=0.2, random_state=42)"
   ]
  },
  {
   "cell_type": "code",
   "execution_count": 13,
   "id": "7e98c894",
   "metadata": {},
   "outputs": [],
   "source": [
    "# Defining models and parameter grids\n",
    "\n",
    "model_params = {\n",
    "    \"Logistic Regression\": (\n",
    "        LogisticRegression(max_iter=500),\n",
    "        {\n",
    "            \"C\": [0.01, 0.1, 1, 10],\n",
    "            \"solver\": [\"liblinear\", \"lbfgs\"]\n",
    "        }\n",
    "    ),\n",
    "    \"Random Forest\": (\n",
    "        RandomForestClassifier(),\n",
    "        {\n",
    "            \"n_estimators\": [50, 100, 150],\n",
    "            \"max_depth\": [5, 10, None]\n",
    "        }\n",
    "    ),\n",
    "    \"SVM\": (\n",
    "        SVC(),\n",
    "        {\n",
    "            \"C\": [0.1, 1, 10],\n",
    "            \"kernel\": [\"linear\", \"rbf\"]\n",
    "        }\n",
    "    )\n",
    "}"
   ]
  },
  {
   "cell_type": "code",
   "execution_count": 14,
   "id": "d0631573",
   "metadata": {},
   "outputs": [
    {
     "name": "stdout",
     "output_type": "stream",
     "text": [
      "\n",
      " Running GridSearchCV for Logistic Regression...\n"
     ]
    },
    {
     "name": "stderr",
     "output_type": "stream",
     "text": [
      "C:\\Users\\HARSH\\anaconda3\\lib\\site-packages\\sklearn\\linear_model\\_logistic.py:814: ConvergenceWarning: lbfgs failed to converge (status=1):\n",
      "STOP: TOTAL NO. of ITERATIONS REACHED LIMIT.\n",
      "\n",
      "Increase the number of iterations (max_iter) or scale the data as shown in:\n",
      "    https://scikit-learn.org/stable/modules/preprocessing.html\n",
      "Please also refer to the documentation for alternative solver options:\n",
      "    https://scikit-learn.org/stable/modules/linear_model.html#logistic-regression\n",
      "  n_iter_i = _check_optimize_result(\n"
     ]
    },
    {
     "name": "stdout",
     "output_type": "stream",
     "text": [
      " Best Parameters: {'C': 10, 'solver': 'lbfgs'}\n",
      " Accuracy: 0.9880952380952381\n",
      " Classification Report:\n",
      "               precision    recall  f1-score   support\n",
      "\n",
      "           0       1.00      1.00      1.00        17\n",
      "           1       0.98      0.99      0.99       130\n",
      "           2       0.99      0.98      0.99       105\n",
      "\n",
      "    accuracy                           0.99       252\n",
      "   macro avg       0.99      0.99      0.99       252\n",
      "weighted avg       0.99      0.99      0.99       252\n",
      "\n",
      "\n",
      " Running GridSearchCV for Random Forest...\n",
      " Best Parameters: {'max_depth': 10, 'n_estimators': 150}\n",
      " Accuracy: 0.9642857142857143\n",
      " Classification Report:\n",
      "               precision    recall  f1-score   support\n",
      "\n",
      "           0       1.00      1.00      1.00        17\n",
      "           1       0.97      0.96      0.97       130\n",
      "           2       0.95      0.96      0.96       105\n",
      "\n",
      "    accuracy                           0.96       252\n",
      "   macro avg       0.97      0.97      0.97       252\n",
      "weighted avg       0.96      0.96      0.96       252\n",
      "\n",
      "\n",
      " Running GridSearchCV for SVM...\n",
      " Best Parameters: {'C': 1, 'kernel': 'linear'}\n",
      " Accuracy: 0.9841269841269841\n",
      " Classification Report:\n",
      "               precision    recall  f1-score   support\n",
      "\n",
      "           0       1.00      1.00      1.00        17\n",
      "           1       0.98      0.99      0.98       130\n",
      "           2       0.99      0.97      0.98       105\n",
      "\n",
      "    accuracy                           0.98       252\n",
      "   macro avg       0.99      0.99      0.99       252\n",
      "weighted avg       0.98      0.98      0.98       252\n",
      "\n"
     ]
    }
   ],
   "source": [
    "# Train, tune and evaluating models using GridSearchCV\n",
    "\n",
    "for name, (model, params) in model_params.items():\n",
    "    print(f\"\\n Running GridSearchCV for {name}...\")\n",
    "    grid = GridSearchCV(model, params, cv=5, scoring='accuracy', n_jobs=-1)\n",
    "    grid.fit(X_train, y_train)\n",
    "    y_pred = grid.predict(X_test)\n",
    "    \n",
    "    print(f\" Best Parameters: {grid.best_params_}\")\n",
    "    print(\" Accuracy:\", accuracy_score(y_test, y_pred))\n",
    "    print(\" Classification Report:\\n\", classification_report(y_test, y_pred))"
   ]
  },
  {
   "cell_type": "code",
   "execution_count": null,
   "id": "041b2def",
   "metadata": {},
   "outputs": [],
   "source": []
  },
  {
   "cell_type": "code",
   "execution_count": null,
   "id": "138c3a3c",
   "metadata": {},
   "outputs": [],
   "source": []
  },
  {
   "cell_type": "code",
   "execution_count": null,
   "id": "673b66f9",
   "metadata": {},
   "outputs": [],
   "source": []
  }
 ],
 "metadata": {
  "kernelspec": {
   "display_name": "Python 3 (ipykernel)",
   "language": "python",
   "name": "python3"
  },
  "language_info": {
   "codemirror_mode": {
    "name": "ipython",
    "version": 3
   },
   "file_extension": ".py",
   "mimetype": "text/x-python",
   "name": "python",
   "nbconvert_exporter": "python",
   "pygments_lexer": "ipython3",
   "version": "3.9.13"
  }
 },
 "nbformat": 4,
 "nbformat_minor": 5
}
